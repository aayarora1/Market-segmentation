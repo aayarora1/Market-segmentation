{
 "cells": [
  {
   "cell_type": "code",
   "execution_count": 1031,
   "metadata": {
    "collapsed": true
   },
   "outputs": [],
   "source": [
    "import numpy as np\n",
    "import pandas as pd\n",
    "import matplotlib.pyplot as plt\n",
    "%matplotlib inline\n",
    "import seaborn as sns"
   ]
  },
  {
   "cell_type": "code",
   "execution_count": 1032,
   "metadata": {},
   "outputs": [
    {
     "name": "stderr",
     "output_type": "stream",
     "text": [
      "C:\\Users\\aayus\\Anaconda3\\lib\\site-packages\\IPython\\core\\interactiveshell.py:2698: DtypeWarning: Columns (7) have mixed types. Specify dtype option on import or set low_memory=False.\n",
      "  interactivity=interactivity, compiler=compiler, result=result)\n"
     ]
    }
   ],
   "source": [
    "data=pd.read_csv('C:\\\\Users\\\\aayus\\\\Downloads\\\\data.csv')"
   ]
  },
  {
   "cell_type": "code",
   "execution_count": 1033,
   "metadata": {},
   "outputs": [
    {
     "data": {
      "text/html": [
       "<div>\n",
       "<style>\n",
       "    .dataframe thead tr:only-child th {\n",
       "        text-align: right;\n",
       "    }\n",
       "\n",
       "    .dataframe thead th {\n",
       "        text-align: left;\n",
       "    }\n",
       "\n",
       "    .dataframe tbody tr th {\n",
       "        vertical-align: top;\n",
       "    }\n",
       "</style>\n",
       "<table border=\"1\" class=\"dataframe\">\n",
       "  <thead>\n",
       "    <tr style=\"text-align: right;\">\n",
       "      <th></th>\n",
       "      <th>ID</th>\n",
       "      <th>State</th>\n",
       "      <th>Region</th>\n",
       "      <th>Division</th>\n",
       "      <th>Group_Name</th>\n",
       "      <th>MSA_Population_Size</th>\n",
       "      <th>GENDER_CODE</th>\n",
       "      <th>PRESUMED_DEAD_FLAG</th>\n",
       "      <th>Primary_TOP</th>\n",
       "      <th>Primary_PE</th>\n",
       "      <th>...</th>\n",
       "      <th>TOP</th>\n",
       "      <th>PE</th>\n",
       "      <th>SPECIAlITY</th>\n",
       "      <th>YrsPractice</th>\n",
       "      <th>Ignore1</th>\n",
       "      <th>Ignore2</th>\n",
       "      <th>Ignore3</th>\n",
       "      <th>Ignore4</th>\n",
       "      <th>Ignore5</th>\n",
       "      <th>Ignore6</th>\n",
       "    </tr>\n",
       "  </thead>\n",
       "  <tbody>\n",
       "    <tr>\n",
       "      <th>0</th>\n",
       "      <td>10259059.0</td>\n",
       "      <td>AL</td>\n",
       "      <td>3.0</td>\n",
       "      <td>6.0</td>\n",
       "      <td>1.0</td>\n",
       "      <td>1.0</td>\n",
       "      <td>1.0</td>\n",
       "      <td>NaN</td>\n",
       "      <td>20.0</td>\n",
       "      <td>30.0</td>\n",
       "      <td>...</td>\n",
       "      <td>20</td>\n",
       "      <td>30</td>\n",
       "      <td>FM</td>\n",
       "      <td>57.0</td>\n",
       "      <td>0.0</td>\n",
       "      <td>0.282792</td>\n",
       "      <td>11.4531</td>\n",
       "      <td>17.9303</td>\n",
       "      <td>4.8554</td>\n",
       "      <td>0.282792</td>\n",
       "    </tr>\n",
       "    <tr>\n",
       "      <th>1</th>\n",
       "      <td>10261004.0</td>\n",
       "      <td>AL</td>\n",
       "      <td>3.0</td>\n",
       "      <td>6.0</td>\n",
       "      <td>6.0</td>\n",
       "      <td>3.0</td>\n",
       "      <td>1.0</td>\n",
       "      <td>NaN</td>\n",
       "      <td>20.0</td>\n",
       "      <td>30.0</td>\n",
       "      <td>...</td>\n",
       "      <td>20</td>\n",
       "      <td>30</td>\n",
       "      <td>IM</td>\n",
       "      <td>55.0</td>\n",
       "      <td>0.0</td>\n",
       "      <td>0.000000</td>\n",
       "      <td>16.8683</td>\n",
       "      <td>20.1757</td>\n",
       "      <td>2.3040</td>\n",
       "      <td>0.000000</td>\n",
       "    </tr>\n",
       "    <tr>\n",
       "      <th>2</th>\n",
       "      <td>10263002.0</td>\n",
       "      <td>TN</td>\n",
       "      <td>3.0</td>\n",
       "      <td>6.0</td>\n",
       "      <td>1.0</td>\n",
       "      <td>1.0</td>\n",
       "      <td>1.0</td>\n",
       "      <td>NaN</td>\n",
       "      <td>71.0</td>\n",
       "      <td>11.0</td>\n",
       "      <td>...</td>\n",
       "      <td>71</td>\n",
       "      <td>11</td>\n",
       "      <td>Other</td>\n",
       "      <td>53.0</td>\n",
       "      <td>0.0</td>\n",
       "      <td>0.000000</td>\n",
       "      <td>25.6941</td>\n",
       "      <td>6.0275</td>\n",
       "      <td>0.0000</td>\n",
       "      <td>0.000000</td>\n",
       "    </tr>\n",
       "    <tr>\n",
       "      <th>3</th>\n",
       "      <td>10265022.0</td>\n",
       "      <td>AL</td>\n",
       "      <td>3.0</td>\n",
       "      <td>6.0</td>\n",
       "      <td>1.0</td>\n",
       "      <td>1.0</td>\n",
       "      <td>1.0</td>\n",
       "      <td>NaN</td>\n",
       "      <td>20.0</td>\n",
       "      <td>30.0</td>\n",
       "      <td>...</td>\n",
       "      <td>20</td>\n",
       "      <td>30</td>\n",
       "      <td>FM</td>\n",
       "      <td>51.0</td>\n",
       "      <td>0.0</td>\n",
       "      <td>0.000000</td>\n",
       "      <td>20.6320</td>\n",
       "      <td>5.6000</td>\n",
       "      <td>2.9553</td>\n",
       "      <td>0.000000</td>\n",
       "    </tr>\n",
       "    <tr>\n",
       "      <th>4</th>\n",
       "      <td>NaN</td>\n",
       "      <td>NaN</td>\n",
       "      <td>NaN</td>\n",
       "      <td>NaN</td>\n",
       "      <td>NaN</td>\n",
       "      <td>NaN</td>\n",
       "      <td>NaN</td>\n",
       "      <td>NaN</td>\n",
       "      <td>NaN</td>\n",
       "      <td>NaN</td>\n",
       "      <td>...</td>\n",
       "      <td>0</td>\n",
       "      <td>0</td>\n",
       "      <td>Other</td>\n",
       "      <td>NaN</td>\n",
       "      <td>0.0</td>\n",
       "      <td>0.000000</td>\n",
       "      <td>35.0081</td>\n",
       "      <td>8.4561</td>\n",
       "      <td>0.0000</td>\n",
       "      <td>0.000000</td>\n",
       "    </tr>\n",
       "  </tbody>\n",
       "</table>\n",
       "<p>5 rows × 31 columns</p>\n",
       "</div>"
      ],
      "text/plain": [
       "           ID State  Region  Division  Group_Name  MSA_Population_Size  \\\n",
       "0  10259059.0    AL     3.0       6.0         1.0                  1.0   \n",
       "1  10261004.0    AL     3.0       6.0         6.0                  3.0   \n",
       "2  10263002.0    TN     3.0       6.0         1.0                  1.0   \n",
       "3  10265022.0    AL     3.0       6.0         1.0                  1.0   \n",
       "4         NaN   NaN     NaN       NaN         NaN                  NaN   \n",
       "\n",
       "   GENDER_CODE PRESUMED_DEAD_FLAG  Primary_TOP  Primary_PE    ...    TOP  PE  \\\n",
       "0          1.0                NaN         20.0        30.0    ...     20  30   \n",
       "1          1.0                NaN         20.0        30.0    ...     20  30   \n",
       "2          1.0                NaN         71.0        11.0    ...     71  11   \n",
       "3          1.0                NaN         20.0        30.0    ...     20  30   \n",
       "4          NaN                NaN          NaN         NaN    ...      0   0   \n",
       "\n",
       "  SPECIAlITY  YrsPractice  Ignore1   Ignore2  Ignore3  Ignore4  Ignore5  \\\n",
       "0         FM         57.0      0.0  0.282792  11.4531  17.9303   4.8554   \n",
       "1         IM         55.0      0.0  0.000000  16.8683  20.1757   2.3040   \n",
       "2      Other         53.0      0.0  0.000000  25.6941   6.0275   0.0000   \n",
       "3         FM         51.0      0.0  0.000000  20.6320   5.6000   2.9553   \n",
       "4      Other          NaN      0.0  0.000000  35.0081   8.4561   0.0000   \n",
       "\n",
       "    Ignore6  \n",
       "0  0.282792  \n",
       "1  0.000000  \n",
       "2  0.000000  \n",
       "3  0.000000  \n",
       "4  0.000000  \n",
       "\n",
       "[5 rows x 31 columns]"
      ]
     },
     "execution_count": 1033,
     "metadata": {},
     "output_type": "execute_result"
    }
   ],
   "source": [
    "data.head()"
   ]
  },
  {
   "cell_type": "code",
   "execution_count": 1034,
   "metadata": {},
   "outputs": [
    {
     "data": {
      "text/plain": [
       "ID                          float64\n",
       "State                        object\n",
       "Region                      float64\n",
       "Division                    float64\n",
       "Group_Name                  float64\n",
       "MSA_Population_Size         float64\n",
       "GENDER_CODE                 float64\n",
       "PRESUMED_DEAD_FLAG           object\n",
       "Primary_TOP                 float64\n",
       "Primary_PE                  float64\n",
       "Primary_AD                   object\n",
       "Secondary                    object\n",
       "RX_Restriction_Indicator     object\n",
       "customer_id                   int64\n",
       "ID2                           int64\n",
       "MyProd1_Rx                  float64\n",
       "MyProd2_Rx                  float64\n",
       "CompProd1_Rx                float64\n",
       "CompProd2_Rx                float64\n",
       "CompProd3_Rx                float64\n",
       "Age                         float64\n",
       "TOP                           int64\n",
       "PE                            int64\n",
       "SPECIAlITY                   object\n",
       "YrsPractice                 float64\n",
       "Ignore1                     float64\n",
       "Ignore2                     float64\n",
       "Ignore3                     float64\n",
       "Ignore4                     float64\n",
       "Ignore5                     float64\n",
       "Ignore6                     float64\n",
       "dtype: object"
      ]
     },
     "execution_count": 1034,
     "metadata": {},
     "output_type": "execute_result"
    }
   ],
   "source": [
    "data.dtypes"
   ]
  },
  {
   "cell_type": "code",
   "execution_count": 1035,
   "metadata": {
    "collapsed": true
   },
   "outputs": [],
   "source": [
    "#removing ignore columns"
   ]
  },
  {
   "cell_type": "code",
   "execution_count": 1036,
   "metadata": {
    "collapsed": true
   },
   "outputs": [],
   "source": [
    "data.drop(['Ignore1','Ignore2','Ignore3','Ignore4','Ignore5','Ignore6','SPECIAlITY','PE','TOP','ID2'],axis=1,inplace=True)"
   ]
  },
  {
   "cell_type": "code",
   "execution_count": 1037,
   "metadata": {},
   "outputs": [
    {
     "data": {
      "text/html": [
       "<div>\n",
       "<style>\n",
       "    .dataframe thead tr:only-child th {\n",
       "        text-align: right;\n",
       "    }\n",
       "\n",
       "    .dataframe thead th {\n",
       "        text-align: left;\n",
       "    }\n",
       "\n",
       "    .dataframe tbody tr th {\n",
       "        vertical-align: top;\n",
       "    }\n",
       "</style>\n",
       "<table border=\"1\" class=\"dataframe\">\n",
       "  <thead>\n",
       "    <tr style=\"text-align: right;\">\n",
       "      <th></th>\n",
       "      <th>ID</th>\n",
       "      <th>State</th>\n",
       "      <th>Region</th>\n",
       "      <th>Division</th>\n",
       "      <th>Group_Name</th>\n",
       "      <th>MSA_Population_Size</th>\n",
       "      <th>GENDER_CODE</th>\n",
       "      <th>PRESUMED_DEAD_FLAG</th>\n",
       "      <th>Primary_TOP</th>\n",
       "      <th>Primary_PE</th>\n",
       "      <th>...</th>\n",
       "      <th>Secondary</th>\n",
       "      <th>RX_Restriction_Indicator</th>\n",
       "      <th>customer_id</th>\n",
       "      <th>MyProd1_Rx</th>\n",
       "      <th>MyProd2_Rx</th>\n",
       "      <th>CompProd1_Rx</th>\n",
       "      <th>CompProd2_Rx</th>\n",
       "      <th>CompProd3_Rx</th>\n",
       "      <th>Age</th>\n",
       "      <th>YrsPractice</th>\n",
       "    </tr>\n",
       "  </thead>\n",
       "  <tbody>\n",
       "    <tr>\n",
       "      <th>0</th>\n",
       "      <td>10259059.0</td>\n",
       "      <td>AL</td>\n",
       "      <td>3.0</td>\n",
       "      <td>6.0</td>\n",
       "      <td>1.0</td>\n",
       "      <td>1.0</td>\n",
       "      <td>1.0</td>\n",
       "      <td>NaN</td>\n",
       "      <td>20.0</td>\n",
       "      <td>30.0</td>\n",
       "      <td>...</td>\n",
       "      <td>GS</td>\n",
       "      <td>NaN</td>\n",
       "      <td>326</td>\n",
       "      <td>0.0</td>\n",
       "      <td>0.282792</td>\n",
       "      <td>11.4531</td>\n",
       "      <td>17.9303</td>\n",
       "      <td>4.8554</td>\n",
       "      <td>89.0</td>\n",
       "      <td>57.0</td>\n",
       "    </tr>\n",
       "    <tr>\n",
       "      <th>1</th>\n",
       "      <td>10261004.0</td>\n",
       "      <td>AL</td>\n",
       "      <td>3.0</td>\n",
       "      <td>6.0</td>\n",
       "      <td>6.0</td>\n",
       "      <td>3.0</td>\n",
       "      <td>1.0</td>\n",
       "      <td>NaN</td>\n",
       "      <td>20.0</td>\n",
       "      <td>30.0</td>\n",
       "      <td>...</td>\n",
       "      <td>HEM</td>\n",
       "      <td>NaN</td>\n",
       "      <td>355</td>\n",
       "      <td>0.0</td>\n",
       "      <td>0.000000</td>\n",
       "      <td>16.8683</td>\n",
       "      <td>20.1757</td>\n",
       "      <td>2.3040</td>\n",
       "      <td>80.0</td>\n",
       "      <td>55.0</td>\n",
       "    </tr>\n",
       "    <tr>\n",
       "      <th>2</th>\n",
       "      <td>10263002.0</td>\n",
       "      <td>TN</td>\n",
       "      <td>3.0</td>\n",
       "      <td>6.0</td>\n",
       "      <td>1.0</td>\n",
       "      <td>1.0</td>\n",
       "      <td>1.0</td>\n",
       "      <td>NaN</td>\n",
       "      <td>71.0</td>\n",
       "      <td>11.0</td>\n",
       "      <td>...</td>\n",
       "      <td>PS</td>\n",
       "      <td>NaN</td>\n",
       "      <td>412</td>\n",
       "      <td>0.0</td>\n",
       "      <td>0.000000</td>\n",
       "      <td>25.6941</td>\n",
       "      <td>6.0275</td>\n",
       "      <td>0.0000</td>\n",
       "      <td>78.0</td>\n",
       "      <td>53.0</td>\n",
       "    </tr>\n",
       "    <tr>\n",
       "      <th>3</th>\n",
       "      <td>10265022.0</td>\n",
       "      <td>AL</td>\n",
       "      <td>3.0</td>\n",
       "      <td>6.0</td>\n",
       "      <td>1.0</td>\n",
       "      <td>1.0</td>\n",
       "      <td>1.0</td>\n",
       "      <td>NaN</td>\n",
       "      <td>20.0</td>\n",
       "      <td>30.0</td>\n",
       "      <td>...</td>\n",
       "      <td>US</td>\n",
       "      <td>NaN</td>\n",
       "      <td>479</td>\n",
       "      <td>0.0</td>\n",
       "      <td>0.000000</td>\n",
       "      <td>20.6320</td>\n",
       "      <td>5.6000</td>\n",
       "      <td>2.9553</td>\n",
       "      <td>78.0</td>\n",
       "      <td>51.0</td>\n",
       "    </tr>\n",
       "    <tr>\n",
       "      <th>4</th>\n",
       "      <td>NaN</td>\n",
       "      <td>NaN</td>\n",
       "      <td>NaN</td>\n",
       "      <td>NaN</td>\n",
       "      <td>NaN</td>\n",
       "      <td>NaN</td>\n",
       "      <td>NaN</td>\n",
       "      <td>NaN</td>\n",
       "      <td>NaN</td>\n",
       "      <td>NaN</td>\n",
       "      <td>...</td>\n",
       "      <td>NaN</td>\n",
       "      <td>NaN</td>\n",
       "      <td>486</td>\n",
       "      <td>0.0</td>\n",
       "      <td>0.000000</td>\n",
       "      <td>35.0081</td>\n",
       "      <td>8.4561</td>\n",
       "      <td>0.0000</td>\n",
       "      <td>NaN</td>\n",
       "      <td>NaN</td>\n",
       "    </tr>\n",
       "  </tbody>\n",
       "</table>\n",
       "<p>5 rows × 21 columns</p>\n",
       "</div>"
      ],
      "text/plain": [
       "           ID State  Region  Division  Group_Name  MSA_Population_Size  \\\n",
       "0  10259059.0    AL     3.0       6.0         1.0                  1.0   \n",
       "1  10261004.0    AL     3.0       6.0         6.0                  3.0   \n",
       "2  10263002.0    TN     3.0       6.0         1.0                  1.0   \n",
       "3  10265022.0    AL     3.0       6.0         1.0                  1.0   \n",
       "4         NaN   NaN     NaN       NaN         NaN                  NaN   \n",
       "\n",
       "   GENDER_CODE PRESUMED_DEAD_FLAG  Primary_TOP  Primary_PE     ...       \\\n",
       "0          1.0                NaN         20.0        30.0     ...        \n",
       "1          1.0                NaN         20.0        30.0     ...        \n",
       "2          1.0                NaN         71.0        11.0     ...        \n",
       "3          1.0                NaN         20.0        30.0     ...        \n",
       "4          NaN                NaN          NaN         NaN     ...        \n",
       "\n",
       "  Secondary RX_Restriction_Indicator customer_id  MyProd1_Rx  MyProd2_Rx  \\\n",
       "0        GS                      NaN         326         0.0    0.282792   \n",
       "1       HEM                      NaN         355         0.0    0.000000   \n",
       "2        PS                      NaN         412         0.0    0.000000   \n",
       "3        US                      NaN         479         0.0    0.000000   \n",
       "4       NaN                      NaN         486         0.0    0.000000   \n",
       "\n",
       "   CompProd1_Rx  CompProd2_Rx  CompProd3_Rx   Age  YrsPractice  \n",
       "0       11.4531       17.9303        4.8554  89.0         57.0  \n",
       "1       16.8683       20.1757        2.3040  80.0         55.0  \n",
       "2       25.6941        6.0275        0.0000  78.0         53.0  \n",
       "3       20.6320        5.6000        2.9553  78.0         51.0  \n",
       "4       35.0081        8.4561        0.0000   NaN          NaN  \n",
       "\n",
       "[5 rows x 21 columns]"
      ]
     },
     "execution_count": 1037,
     "metadata": {},
     "output_type": "execute_result"
    }
   ],
   "source": [
    "data.head()"
   ]
  },
  {
   "cell_type": "code",
   "execution_count": 1038,
   "metadata": {},
   "outputs": [
    {
     "data": {
      "text/plain": [
       "(77247, 21)"
      ]
     },
     "execution_count": 1038,
     "metadata": {},
     "output_type": "execute_result"
    }
   ],
   "source": [
    "data.shape"
   ]
  },
  {
   "cell_type": "code",
   "execution_count": 1039,
   "metadata": {},
   "outputs": [
    {
     "data": {
      "text/plain": [
       "Index(['ID', 'State', 'Region', 'Division', 'Group_Name',\n",
       "       'MSA_Population_Size', 'GENDER_CODE', 'PRESUMED_DEAD_FLAG',\n",
       "       'Primary_TOP', 'Primary_PE', 'Primary_AD', 'Secondary',\n",
       "       'RX_Restriction_Indicator', 'customer_id', 'MyProd1_Rx', 'MyProd2_Rx',\n",
       "       'CompProd1_Rx', 'CompProd2_Rx', 'CompProd3_Rx', 'Age', 'YrsPractice'],\n",
       "      dtype='object')"
      ]
     },
     "execution_count": 1039,
     "metadata": {},
     "output_type": "execute_result"
    }
   ],
   "source": [
    "data.columns"
   ]
  },
  {
   "cell_type": "code",
   "execution_count": 1040,
   "metadata": {
    "collapsed": true
   },
   "outputs": [],
   "source": [
    "#imputing missing values for presumed_dead_flag and RX_Restriction_Indicator"
   ]
  },
  {
   "cell_type": "code",
   "execution_count": 1041,
   "metadata": {
    "collapsed": true
   },
   "outputs": [],
   "source": [
    "data['PRESUMED_DEAD_FLAG'].fillna('ND',inplace=True)\n",
    "data['RX_Restriction_Indicator'].fillna('N',inplace=True)"
   ]
  },
  {
   "cell_type": "code",
   "execution_count": 1042,
   "metadata": {},
   "outputs": [
    {
     "data": {
      "text/plain": [
       "ID                          42270\n",
       "State                       42278\n",
       "Region                      42274\n",
       "Division                    42274\n",
       "Group_Name                  42270\n",
       "MSA_Population_Size         42270\n",
       "GENDER_CODE                 42298\n",
       "PRESUMED_DEAD_FLAG              0\n",
       "Primary_TOP                 42270\n",
       "Primary_PE                  42270\n",
       "Primary_AD                  42270\n",
       "Secondary                   42270\n",
       "RX_Restriction_Indicator        0\n",
       "customer_id                     0\n",
       "MyProd1_Rx                      0\n",
       "MyProd2_Rx                      0\n",
       "CompProd1_Rx                    0\n",
       "CompProd2_Rx                    0\n",
       "CompProd3_Rx                    0\n",
       "Age                         42270\n",
       "YrsPractice                 42270\n",
       "dtype: int64"
      ]
     },
     "execution_count": 1042,
     "metadata": {},
     "output_type": "execute_result"
    }
   ],
   "source": [
    "data.isnull().sum()"
   ]
  },
  {
   "cell_type": "code",
   "execution_count": 1043,
   "metadata": {
    "collapsed": true
   },
   "outputs": [],
   "source": [
    "#Removing missing values except for which above data is to be repeated\n",
    "#as these rows are having id's but not gender code or other variable"
   ]
  },
  {
   "cell_type": "code",
   "execution_count": 1044,
   "metadata": {
    "collapsed": true
   },
   "outputs": [],
   "source": [
    "df=data[data['ID'].notnull()&(data['GENDER_CODE'].isnull()|data['State'].isnull()|data['Region'].isnull()\n",
    "                              |data['Division'].isnull())]"
   ]
  },
  {
   "cell_type": "code",
   "execution_count": 1045,
   "metadata": {},
   "outputs": [
    {
     "data": {
      "text/html": [
       "<div>\n",
       "<style>\n",
       "    .dataframe thead tr:only-child th {\n",
       "        text-align: right;\n",
       "    }\n",
       "\n",
       "    .dataframe thead th {\n",
       "        text-align: left;\n",
       "    }\n",
       "\n",
       "    .dataframe tbody tr th {\n",
       "        vertical-align: top;\n",
       "    }\n",
       "</style>\n",
       "<table border=\"1\" class=\"dataframe\">\n",
       "  <thead>\n",
       "    <tr style=\"text-align: right;\">\n",
       "      <th></th>\n",
       "      <th>ID</th>\n",
       "      <th>State</th>\n",
       "      <th>Region</th>\n",
       "      <th>Division</th>\n",
       "      <th>Group_Name</th>\n",
       "      <th>MSA_Population_Size</th>\n",
       "      <th>GENDER_CODE</th>\n",
       "      <th>PRESUMED_DEAD_FLAG</th>\n",
       "      <th>Primary_TOP</th>\n",
       "      <th>Primary_PE</th>\n",
       "      <th>...</th>\n",
       "      <th>Secondary</th>\n",
       "      <th>RX_Restriction_Indicator</th>\n",
       "      <th>customer_id</th>\n",
       "      <th>MyProd1_Rx</th>\n",
       "      <th>MyProd2_Rx</th>\n",
       "      <th>CompProd1_Rx</th>\n",
       "      <th>CompProd2_Rx</th>\n",
       "      <th>CompProd3_Rx</th>\n",
       "      <th>Age</th>\n",
       "      <th>YrsPractice</th>\n",
       "    </tr>\n",
       "  </thead>\n",
       "  <tbody>\n",
       "    <tr>\n",
       "      <th>20532</th>\n",
       "      <td>3.845881e+08</td>\n",
       "      <td>NaN</td>\n",
       "      <td>3.0</td>\n",
       "      <td>6.0</td>\n",
       "      <td>6.0</td>\n",
       "      <td>3.0</td>\n",
       "      <td>2.0</td>\n",
       "      <td>ND</td>\n",
       "      <td>20.0</td>\n",
       "      <td>63.0</td>\n",
       "      <td>...</td>\n",
       "      <td>ID</td>\n",
       "      <td>N</td>\n",
       "      <td>802653</td>\n",
       "      <td>0.0</td>\n",
       "      <td>0.0</td>\n",
       "      <td>21.0019</td>\n",
       "      <td>1.0150</td>\n",
       "      <td>0.0000</td>\n",
       "      <td>57.0</td>\n",
       "      <td>28.0</td>\n",
       "    </tr>\n",
       "    <tr>\n",
       "      <th>21229</th>\n",
       "      <td>4.802831e+08</td>\n",
       "      <td>NaN</td>\n",
       "      <td>3.0</td>\n",
       "      <td>5.0</td>\n",
       "      <td>6.0</td>\n",
       "      <td>4.0</td>\n",
       "      <td>1.0</td>\n",
       "      <td>ND</td>\n",
       "      <td>20.0</td>\n",
       "      <td>30.0</td>\n",
       "      <td>...</td>\n",
       "      <td>US</td>\n",
       "      <td>N</td>\n",
       "      <td>816481</td>\n",
       "      <td>0.0</td>\n",
       "      <td>0.0</td>\n",
       "      <td>6.2470</td>\n",
       "      <td>24.1901</td>\n",
       "      <td>14.5041</td>\n",
       "      <td>61.0</td>\n",
       "      <td>33.0</td>\n",
       "    </tr>\n",
       "    <tr>\n",
       "      <th>36445</th>\n",
       "      <td>2.861184e+09</td>\n",
       "      <td>NaN</td>\n",
       "      <td>NaN</td>\n",
       "      <td>NaN</td>\n",
       "      <td>1.0</td>\n",
       "      <td>1.0</td>\n",
       "      <td>1.0</td>\n",
       "      <td>ND</td>\n",
       "      <td>20.0</td>\n",
       "      <td>110.0</td>\n",
       "      <td>...</td>\n",
       "      <td>US</td>\n",
       "      <td>N</td>\n",
       "      <td>1892824</td>\n",
       "      <td>0.0</td>\n",
       "      <td>0.0</td>\n",
       "      <td>0.0000</td>\n",
       "      <td>30.3820</td>\n",
       "      <td>5.5795</td>\n",
       "      <td>57.0</td>\n",
       "      <td>32.0</td>\n",
       "    </tr>\n",
       "    <tr>\n",
       "      <th>38970</th>\n",
       "      <td>4.956595e+09</td>\n",
       "      <td>NaN</td>\n",
       "      <td>2.0</td>\n",
       "      <td>3.0</td>\n",
       "      <td>6.0</td>\n",
       "      <td>4.0</td>\n",
       "      <td>2.0</td>\n",
       "      <td>ND</td>\n",
       "      <td>20.0</td>\n",
       "      <td>30.0</td>\n",
       "      <td>...</td>\n",
       "      <td>US</td>\n",
       "      <td>N</td>\n",
       "      <td>1933296</td>\n",
       "      <td>0.0</td>\n",
       "      <td>0.0</td>\n",
       "      <td>15.1896</td>\n",
       "      <td>36.5500</td>\n",
       "      <td>6.2794</td>\n",
       "      <td>45.0</td>\n",
       "      <td>21.0</td>\n",
       "    </tr>\n",
       "    <tr>\n",
       "      <th>42571</th>\n",
       "      <td>7.260195e+09</td>\n",
       "      <td>NaN</td>\n",
       "      <td>2.0</td>\n",
       "      <td>4.0</td>\n",
       "      <td>6.0</td>\n",
       "      <td>4.0</td>\n",
       "      <td>1.0</td>\n",
       "      <td>ND</td>\n",
       "      <td>20.0</td>\n",
       "      <td>110.0</td>\n",
       "      <td>...</td>\n",
       "      <td>US</td>\n",
       "      <td>Y</td>\n",
       "      <td>1993798</td>\n",
       "      <td>0.0</td>\n",
       "      <td>0.0</td>\n",
       "      <td>0.0000</td>\n",
       "      <td>0.0000</td>\n",
       "      <td>0.0000</td>\n",
       "      <td>46.0</td>\n",
       "      <td>21.0</td>\n",
       "    </tr>\n",
       "  </tbody>\n",
       "</table>\n",
       "<p>5 rows × 21 columns</p>\n",
       "</div>"
      ],
      "text/plain": [
       "                 ID State  Region  Division  Group_Name  MSA_Population_Size  \\\n",
       "20532  3.845881e+08   NaN     3.0       6.0         6.0                  3.0   \n",
       "21229  4.802831e+08   NaN     3.0       5.0         6.0                  4.0   \n",
       "36445  2.861184e+09   NaN     NaN       NaN         1.0                  1.0   \n",
       "38970  4.956595e+09   NaN     2.0       3.0         6.0                  4.0   \n",
       "42571  7.260195e+09   NaN     2.0       4.0         6.0                  4.0   \n",
       "\n",
       "       GENDER_CODE PRESUMED_DEAD_FLAG  Primary_TOP  Primary_PE     ...       \\\n",
       "20532          2.0                 ND         20.0        63.0     ...        \n",
       "21229          1.0                 ND         20.0        30.0     ...        \n",
       "36445          1.0                 ND         20.0       110.0     ...        \n",
       "38970          2.0                 ND         20.0        30.0     ...        \n",
       "42571          1.0                 ND         20.0       110.0     ...        \n",
       "\n",
       "      Secondary RX_Restriction_Indicator customer_id  MyProd1_Rx  MyProd2_Rx  \\\n",
       "20532        ID                        N      802653         0.0         0.0   \n",
       "21229        US                        N      816481         0.0         0.0   \n",
       "36445        US                        N     1892824         0.0         0.0   \n",
       "38970        US                        N     1933296         0.0         0.0   \n",
       "42571        US                        Y     1993798         0.0         0.0   \n",
       "\n",
       "       CompProd1_Rx  CompProd2_Rx  CompProd3_Rx   Age  YrsPractice  \n",
       "20532       21.0019        1.0150        0.0000  57.0         28.0  \n",
       "21229        6.2470       24.1901       14.5041  61.0         33.0  \n",
       "36445        0.0000       30.3820        5.5795  57.0         32.0  \n",
       "38970       15.1896       36.5500        6.2794  45.0         21.0  \n",
       "42571        0.0000        0.0000        0.0000  46.0         21.0  \n",
       "\n",
       "[5 rows x 21 columns]"
      ]
     },
     "execution_count": 1045,
     "metadata": {},
     "output_type": "execute_result"
    }
   ],
   "source": [
    "df.head()"
   ]
  },
  {
   "cell_type": "code",
   "execution_count": 1046,
   "metadata": {
    "collapsed": true
   },
   "outputs": [],
   "source": [
    "#removing those indexes in the orignal dataframe"
   ]
  },
  {
   "cell_type": "code",
   "execution_count": 1047,
   "metadata": {
    "collapsed": true
   },
   "outputs": [],
   "source": [
    "data=data[~data.index.isin(df.index)]"
   ]
  },
  {
   "cell_type": "code",
   "execution_count": 1048,
   "metadata": {
    "collapsed": true
   },
   "outputs": [],
   "source": [
    "#resetting the indexes after removing the rows"
   ]
  },
  {
   "cell_type": "code",
   "execution_count": 1049,
   "metadata": {
    "collapsed": true
   },
   "outputs": [],
   "source": [
    "data=data.reset_index(drop=True)"
   ]
  },
  {
   "cell_type": "code",
   "execution_count": 1050,
   "metadata": {},
   "outputs": [
    {
     "data": {
      "text/plain": [
       "ID                          42270\n",
       "State                       42270\n",
       "Region                      42270\n",
       "Division                    42270\n",
       "Group_Name                  42270\n",
       "MSA_Population_Size         42270\n",
       "GENDER_CODE                 42270\n",
       "PRESUMED_DEAD_FLAG              0\n",
       "Primary_TOP                 42270\n",
       "Primary_PE                  42270\n",
       "Primary_AD                  42270\n",
       "Secondary                   42270\n",
       "RX_Restriction_Indicator        0\n",
       "customer_id                     0\n",
       "MyProd1_Rx                      0\n",
       "MyProd2_Rx                      0\n",
       "CompProd1_Rx                    0\n",
       "CompProd2_Rx                    0\n",
       "CompProd3_Rx                    0\n",
       "Age                         42270\n",
       "YrsPractice                 42270\n",
       "dtype: int64"
      ]
     },
     "execution_count": 1050,
     "metadata": {},
     "output_type": "execute_result"
    }
   ],
   "source": [
    "data.isnull().sum()"
   ]
  },
  {
   "cell_type": "code",
   "execution_count": 1051,
   "metadata": {
    "collapsed": true
   },
   "outputs": [],
   "source": [
    "#repeating previous valid rows "
   ]
  },
  {
   "cell_type": "code",
   "execution_count": 1052,
   "metadata": {
    "collapsed": true
   },
   "outputs": [],
   "source": [
    "data=data.mask(data==np.nan, None).ffill()"
   ]
  },
  {
   "cell_type": "code",
   "execution_count": 1053,
   "metadata": {},
   "outputs": [
    {
     "data": {
      "text/plain": [
       "(77211, 21)"
      ]
     },
     "execution_count": 1053,
     "metadata": {},
     "output_type": "execute_result"
    }
   ],
   "source": [
    "data.shape"
   ]
  },
  {
   "cell_type": "code",
   "execution_count": 1054,
   "metadata": {},
   "outputs": [
    {
     "data": {
      "text/plain": [
       "ID                          0\n",
       "State                       0\n",
       "Region                      0\n",
       "Division                    0\n",
       "Group_Name                  0\n",
       "MSA_Population_Size         0\n",
       "GENDER_CODE                 0\n",
       "PRESUMED_DEAD_FLAG          0\n",
       "Primary_TOP                 0\n",
       "Primary_PE                  0\n",
       "Primary_AD                  0\n",
       "Secondary                   0\n",
       "RX_Restriction_Indicator    0\n",
       "customer_id                 0\n",
       "MyProd1_Rx                  0\n",
       "MyProd2_Rx                  0\n",
       "CompProd1_Rx                0\n",
       "CompProd2_Rx                0\n",
       "CompProd3_Rx                0\n",
       "Age                         0\n",
       "YrsPractice                 0\n",
       "dtype: int64"
      ]
     },
     "execution_count": 1054,
     "metadata": {},
     "output_type": "execute_result"
    }
   ],
   "source": [
    "data.isnull().sum()"
   ]
  },
  {
   "cell_type": "code",
   "execution_count": 1055,
   "metadata": {},
   "outputs": [
    {
     "data": {
      "text/html": [
       "<div>\n",
       "<style>\n",
       "    .dataframe thead tr:only-child th {\n",
       "        text-align: right;\n",
       "    }\n",
       "\n",
       "    .dataframe thead th {\n",
       "        text-align: left;\n",
       "    }\n",
       "\n",
       "    .dataframe tbody tr th {\n",
       "        vertical-align: top;\n",
       "    }\n",
       "</style>\n",
       "<table border=\"1\" class=\"dataframe\">\n",
       "  <thead>\n",
       "    <tr style=\"text-align: right;\">\n",
       "      <th></th>\n",
       "      <th>ID</th>\n",
       "      <th>State</th>\n",
       "      <th>Region</th>\n",
       "      <th>Division</th>\n",
       "      <th>Group_Name</th>\n",
       "      <th>MSA_Population_Size</th>\n",
       "      <th>GENDER_CODE</th>\n",
       "      <th>PRESUMED_DEAD_FLAG</th>\n",
       "      <th>Primary_TOP</th>\n",
       "      <th>Primary_PE</th>\n",
       "      <th>...</th>\n",
       "      <th>Secondary</th>\n",
       "      <th>RX_Restriction_Indicator</th>\n",
       "      <th>customer_id</th>\n",
       "      <th>MyProd1_Rx</th>\n",
       "      <th>MyProd2_Rx</th>\n",
       "      <th>CompProd1_Rx</th>\n",
       "      <th>CompProd2_Rx</th>\n",
       "      <th>CompProd3_Rx</th>\n",
       "      <th>Age</th>\n",
       "      <th>YrsPractice</th>\n",
       "    </tr>\n",
       "  </thead>\n",
       "  <tbody>\n",
       "    <tr>\n",
       "      <th>0</th>\n",
       "      <td>10259059.0</td>\n",
       "      <td>AL</td>\n",
       "      <td>3.0</td>\n",
       "      <td>6.0</td>\n",
       "      <td>1.0</td>\n",
       "      <td>1.0</td>\n",
       "      <td>1.0</td>\n",
       "      <td>ND</td>\n",
       "      <td>20.0</td>\n",
       "      <td>30.0</td>\n",
       "      <td>...</td>\n",
       "      <td>GS</td>\n",
       "      <td>N</td>\n",
       "      <td>326</td>\n",
       "      <td>0.0</td>\n",
       "      <td>0.282792</td>\n",
       "      <td>11.4531</td>\n",
       "      <td>17.9303</td>\n",
       "      <td>4.8554</td>\n",
       "      <td>89.0</td>\n",
       "      <td>57.0</td>\n",
       "    </tr>\n",
       "    <tr>\n",
       "      <th>1</th>\n",
       "      <td>10261004.0</td>\n",
       "      <td>AL</td>\n",
       "      <td>3.0</td>\n",
       "      <td>6.0</td>\n",
       "      <td>6.0</td>\n",
       "      <td>3.0</td>\n",
       "      <td>1.0</td>\n",
       "      <td>ND</td>\n",
       "      <td>20.0</td>\n",
       "      <td>30.0</td>\n",
       "      <td>...</td>\n",
       "      <td>HEM</td>\n",
       "      <td>N</td>\n",
       "      <td>355</td>\n",
       "      <td>0.0</td>\n",
       "      <td>0.000000</td>\n",
       "      <td>16.8683</td>\n",
       "      <td>20.1757</td>\n",
       "      <td>2.3040</td>\n",
       "      <td>80.0</td>\n",
       "      <td>55.0</td>\n",
       "    </tr>\n",
       "    <tr>\n",
       "      <th>2</th>\n",
       "      <td>10263002.0</td>\n",
       "      <td>TN</td>\n",
       "      <td>3.0</td>\n",
       "      <td>6.0</td>\n",
       "      <td>1.0</td>\n",
       "      <td>1.0</td>\n",
       "      <td>1.0</td>\n",
       "      <td>ND</td>\n",
       "      <td>71.0</td>\n",
       "      <td>11.0</td>\n",
       "      <td>...</td>\n",
       "      <td>PS</td>\n",
       "      <td>N</td>\n",
       "      <td>412</td>\n",
       "      <td>0.0</td>\n",
       "      <td>0.000000</td>\n",
       "      <td>25.6941</td>\n",
       "      <td>6.0275</td>\n",
       "      <td>0.0000</td>\n",
       "      <td>78.0</td>\n",
       "      <td>53.0</td>\n",
       "    </tr>\n",
       "    <tr>\n",
       "      <th>3</th>\n",
       "      <td>10265022.0</td>\n",
       "      <td>AL</td>\n",
       "      <td>3.0</td>\n",
       "      <td>6.0</td>\n",
       "      <td>1.0</td>\n",
       "      <td>1.0</td>\n",
       "      <td>1.0</td>\n",
       "      <td>ND</td>\n",
       "      <td>20.0</td>\n",
       "      <td>30.0</td>\n",
       "      <td>...</td>\n",
       "      <td>US</td>\n",
       "      <td>N</td>\n",
       "      <td>479</td>\n",
       "      <td>0.0</td>\n",
       "      <td>0.000000</td>\n",
       "      <td>20.6320</td>\n",
       "      <td>5.6000</td>\n",
       "      <td>2.9553</td>\n",
       "      <td>78.0</td>\n",
       "      <td>51.0</td>\n",
       "    </tr>\n",
       "    <tr>\n",
       "      <th>4</th>\n",
       "      <td>10265022.0</td>\n",
       "      <td>AL</td>\n",
       "      <td>3.0</td>\n",
       "      <td>6.0</td>\n",
       "      <td>1.0</td>\n",
       "      <td>1.0</td>\n",
       "      <td>1.0</td>\n",
       "      <td>ND</td>\n",
       "      <td>20.0</td>\n",
       "      <td>30.0</td>\n",
       "      <td>...</td>\n",
       "      <td>US</td>\n",
       "      <td>N</td>\n",
       "      <td>486</td>\n",
       "      <td>0.0</td>\n",
       "      <td>0.000000</td>\n",
       "      <td>35.0081</td>\n",
       "      <td>8.4561</td>\n",
       "      <td>0.0000</td>\n",
       "      <td>78.0</td>\n",
       "      <td>51.0</td>\n",
       "    </tr>\n",
       "    <tr>\n",
       "      <th>5</th>\n",
       "      <td>10265022.0</td>\n",
       "      <td>AL</td>\n",
       "      <td>3.0</td>\n",
       "      <td>6.0</td>\n",
       "      <td>1.0</td>\n",
       "      <td>1.0</td>\n",
       "      <td>1.0</td>\n",
       "      <td>ND</td>\n",
       "      <td>20.0</td>\n",
       "      <td>30.0</td>\n",
       "      <td>...</td>\n",
       "      <td>US</td>\n",
       "      <td>N</td>\n",
       "      <td>518</td>\n",
       "      <td>0.0</td>\n",
       "      <td>0.000000</td>\n",
       "      <td>7.0253</td>\n",
       "      <td>16.0910</td>\n",
       "      <td>7.1729</td>\n",
       "      <td>78.0</td>\n",
       "      <td>51.0</td>\n",
       "    </tr>\n",
       "  </tbody>\n",
       "</table>\n",
       "<p>6 rows × 21 columns</p>\n",
       "</div>"
      ],
      "text/plain": [
       "           ID State  Region  Division  Group_Name  MSA_Population_Size  \\\n",
       "0  10259059.0    AL     3.0       6.0         1.0                  1.0   \n",
       "1  10261004.0    AL     3.0       6.0         6.0                  3.0   \n",
       "2  10263002.0    TN     3.0       6.0         1.0                  1.0   \n",
       "3  10265022.0    AL     3.0       6.0         1.0                  1.0   \n",
       "4  10265022.0    AL     3.0       6.0         1.0                  1.0   \n",
       "5  10265022.0    AL     3.0       6.0         1.0                  1.0   \n",
       "\n",
       "   GENDER_CODE PRESUMED_DEAD_FLAG  Primary_TOP  Primary_PE     ...       \\\n",
       "0          1.0                 ND         20.0        30.0     ...        \n",
       "1          1.0                 ND         20.0        30.0     ...        \n",
       "2          1.0                 ND         71.0        11.0     ...        \n",
       "3          1.0                 ND         20.0        30.0     ...        \n",
       "4          1.0                 ND         20.0        30.0     ...        \n",
       "5          1.0                 ND         20.0        30.0     ...        \n",
       "\n",
       "  Secondary RX_Restriction_Indicator customer_id  MyProd1_Rx  MyProd2_Rx  \\\n",
       "0        GS                        N         326         0.0    0.282792   \n",
       "1       HEM                        N         355         0.0    0.000000   \n",
       "2        PS                        N         412         0.0    0.000000   \n",
       "3        US                        N         479         0.0    0.000000   \n",
       "4        US                        N         486         0.0    0.000000   \n",
       "5        US                        N         518         0.0    0.000000   \n",
       "\n",
       "   CompProd1_Rx  CompProd2_Rx  CompProd3_Rx   Age  YrsPractice  \n",
       "0       11.4531       17.9303        4.8554  89.0         57.0  \n",
       "1       16.8683       20.1757        2.3040  80.0         55.0  \n",
       "2       25.6941        6.0275        0.0000  78.0         53.0  \n",
       "3       20.6320        5.6000        2.9553  78.0         51.0  \n",
       "4       35.0081        8.4561        0.0000  78.0         51.0  \n",
       "5        7.0253       16.0910        7.1729  78.0         51.0  \n",
       "\n",
       "[6 rows x 21 columns]"
      ]
     },
     "execution_count": 1055,
     "metadata": {},
     "output_type": "execute_result"
    }
   ],
   "source": [
    "data.head(6)"
   ]
  },
  {
   "cell_type": "code",
   "execution_count": 1056,
   "metadata": {},
   "outputs": [
    {
     "data": {
      "text/plain": [
       "ID                          float64\n",
       "State                        object\n",
       "Region                      float64\n",
       "Division                    float64\n",
       "Group_Name                  float64\n",
       "MSA_Population_Size         float64\n",
       "GENDER_CODE                 float64\n",
       "PRESUMED_DEAD_FLAG           object\n",
       "Primary_TOP                 float64\n",
       "Primary_PE                  float64\n",
       "Primary_AD                   object\n",
       "Secondary                    object\n",
       "RX_Restriction_Indicator     object\n",
       "customer_id                   int64\n",
       "MyProd1_Rx                  float64\n",
       "MyProd2_Rx                  float64\n",
       "CompProd1_Rx                float64\n",
       "CompProd2_Rx                float64\n",
       "CompProd3_Rx                float64\n",
       "Age                         float64\n",
       "YrsPractice                 float64\n",
       "dtype: object"
      ]
     },
     "execution_count": 1056,
     "metadata": {},
     "output_type": "execute_result"
    }
   ],
   "source": [
    "data.dtypes"
   ]
  },
  {
   "cell_type": "code",
   "execution_count": 1057,
   "metadata": {
    "collapsed": true
   },
   "outputs": [],
   "source": [
    "#doctors who are dead to be removed"
   ]
  },
  {
   "cell_type": "code",
   "execution_count": 1058,
   "metadata": {
    "collapsed": true
   },
   "outputs": [],
   "source": [
    "data=data[data.PRESUMED_DEAD_FLAG != 'D']"
   ]
  },
  {
   "cell_type": "code",
   "execution_count": 1059,
   "metadata": {
    "collapsed": true
   },
   "outputs": [],
   "source": [
    "data=data.reset_index(drop=True)"
   ]
  },
  {
   "cell_type": "code",
   "execution_count": 1060,
   "metadata": {
    "collapsed": true
   },
   "outputs": [],
   "source": [
    "#Removing column presumed dead flag"
   ]
  },
  {
   "cell_type": "code",
   "execution_count": 1061,
   "metadata": {
    "collapsed": true
   },
   "outputs": [],
   "source": [
    "data.drop('PRESUMED_DEAD_FLAG',axis=1,inplace=True)"
   ]
  },
  {
   "cell_type": "code",
   "execution_count": 1062,
   "metadata": {},
   "outputs": [
    {
     "data": {
      "text/plain": [
       "Index(['ID', 'State', 'Region', 'Division', 'Group_Name',\n",
       "       'MSA_Population_Size', 'GENDER_CODE', 'Primary_TOP', 'Primary_PE',\n",
       "       'Primary_AD', 'Secondary', 'RX_Restriction_Indicator', 'customer_id',\n",
       "       'MyProd1_Rx', 'MyProd2_Rx', 'CompProd1_Rx', 'CompProd2_Rx',\n",
       "       'CompProd3_Rx', 'Age', 'YrsPractice'],\n",
       "      dtype='object')"
      ]
     },
     "execution_count": 1062,
     "metadata": {},
     "output_type": "execute_result"
    }
   ],
   "source": [
    "data.columns"
   ]
  },
  {
   "cell_type": "code",
   "execution_count": 1063,
   "metadata": {},
   "outputs": [
    {
     "data": {
      "text/html": [
       "<div>\n",
       "<style>\n",
       "    .dataframe thead tr:only-child th {\n",
       "        text-align: right;\n",
       "    }\n",
       "\n",
       "    .dataframe thead th {\n",
       "        text-align: left;\n",
       "    }\n",
       "\n",
       "    .dataframe tbody tr th {\n",
       "        vertical-align: top;\n",
       "    }\n",
       "</style>\n",
       "<table border=\"1\" class=\"dataframe\">\n",
       "  <thead>\n",
       "    <tr style=\"text-align: right;\">\n",
       "      <th></th>\n",
       "      <th>ID</th>\n",
       "      <th>State</th>\n",
       "      <th>Region</th>\n",
       "      <th>Division</th>\n",
       "      <th>Group_Name</th>\n",
       "      <th>MSA_Population_Size</th>\n",
       "      <th>GENDER_CODE</th>\n",
       "      <th>Primary_TOP</th>\n",
       "      <th>Primary_PE</th>\n",
       "      <th>Primary_AD</th>\n",
       "      <th>Secondary</th>\n",
       "      <th>RX_Restriction_Indicator</th>\n",
       "      <th>customer_id</th>\n",
       "      <th>MyProd1_Rx</th>\n",
       "      <th>MyProd2_Rx</th>\n",
       "      <th>CompProd1_Rx</th>\n",
       "      <th>CompProd2_Rx</th>\n",
       "      <th>CompProd3_Rx</th>\n",
       "      <th>Age</th>\n",
       "      <th>YrsPractice</th>\n",
       "    </tr>\n",
       "  </thead>\n",
       "  <tbody>\n",
       "    <tr>\n",
       "      <th>0</th>\n",
       "      <td>10259059.0</td>\n",
       "      <td>AL</td>\n",
       "      <td>3.0</td>\n",
       "      <td>6.0</td>\n",
       "      <td>1.0</td>\n",
       "      <td>1.0</td>\n",
       "      <td>1.0</td>\n",
       "      <td>20.0</td>\n",
       "      <td>30.0</td>\n",
       "      <td>FM</td>\n",
       "      <td>GS</td>\n",
       "      <td>N</td>\n",
       "      <td>326</td>\n",
       "      <td>0.0</td>\n",
       "      <td>0.282792</td>\n",
       "      <td>11.4531</td>\n",
       "      <td>17.9303</td>\n",
       "      <td>4.8554</td>\n",
       "      <td>89.0</td>\n",
       "      <td>57.0</td>\n",
       "    </tr>\n",
       "    <tr>\n",
       "      <th>1</th>\n",
       "      <td>10261004.0</td>\n",
       "      <td>AL</td>\n",
       "      <td>3.0</td>\n",
       "      <td>6.0</td>\n",
       "      <td>6.0</td>\n",
       "      <td>3.0</td>\n",
       "      <td>1.0</td>\n",
       "      <td>20.0</td>\n",
       "      <td>30.0</td>\n",
       "      <td>IM</td>\n",
       "      <td>HEM</td>\n",
       "      <td>N</td>\n",
       "      <td>355</td>\n",
       "      <td>0.0</td>\n",
       "      <td>0.000000</td>\n",
       "      <td>16.8683</td>\n",
       "      <td>20.1757</td>\n",
       "      <td>2.3040</td>\n",
       "      <td>80.0</td>\n",
       "      <td>55.0</td>\n",
       "    </tr>\n",
       "    <tr>\n",
       "      <th>2</th>\n",
       "      <td>10263002.0</td>\n",
       "      <td>TN</td>\n",
       "      <td>3.0</td>\n",
       "      <td>6.0</td>\n",
       "      <td>1.0</td>\n",
       "      <td>1.0</td>\n",
       "      <td>1.0</td>\n",
       "      <td>71.0</td>\n",
       "      <td>11.0</td>\n",
       "      <td>EM</td>\n",
       "      <td>PS</td>\n",
       "      <td>N</td>\n",
       "      <td>412</td>\n",
       "      <td>0.0</td>\n",
       "      <td>0.000000</td>\n",
       "      <td>25.6941</td>\n",
       "      <td>6.0275</td>\n",
       "      <td>0.0000</td>\n",
       "      <td>78.0</td>\n",
       "      <td>53.0</td>\n",
       "    </tr>\n",
       "    <tr>\n",
       "      <th>3</th>\n",
       "      <td>10265022.0</td>\n",
       "      <td>AL</td>\n",
       "      <td>3.0</td>\n",
       "      <td>6.0</td>\n",
       "      <td>1.0</td>\n",
       "      <td>1.0</td>\n",
       "      <td>1.0</td>\n",
       "      <td>20.0</td>\n",
       "      <td>30.0</td>\n",
       "      <td>FM</td>\n",
       "      <td>US</td>\n",
       "      <td>N</td>\n",
       "      <td>479</td>\n",
       "      <td>0.0</td>\n",
       "      <td>0.000000</td>\n",
       "      <td>20.6320</td>\n",
       "      <td>5.6000</td>\n",
       "      <td>2.9553</td>\n",
       "      <td>78.0</td>\n",
       "      <td>51.0</td>\n",
       "    </tr>\n",
       "    <tr>\n",
       "      <th>4</th>\n",
       "      <td>10265022.0</td>\n",
       "      <td>AL</td>\n",
       "      <td>3.0</td>\n",
       "      <td>6.0</td>\n",
       "      <td>1.0</td>\n",
       "      <td>1.0</td>\n",
       "      <td>1.0</td>\n",
       "      <td>20.0</td>\n",
       "      <td>30.0</td>\n",
       "      <td>FM</td>\n",
       "      <td>US</td>\n",
       "      <td>N</td>\n",
       "      <td>486</td>\n",
       "      <td>0.0</td>\n",
       "      <td>0.000000</td>\n",
       "      <td>35.0081</td>\n",
       "      <td>8.4561</td>\n",
       "      <td>0.0000</td>\n",
       "      <td>78.0</td>\n",
       "      <td>51.0</td>\n",
       "    </tr>\n",
       "  </tbody>\n",
       "</table>\n",
       "</div>"
      ],
      "text/plain": [
       "           ID State  Region  Division  Group_Name  MSA_Population_Size  \\\n",
       "0  10259059.0    AL     3.0       6.0         1.0                  1.0   \n",
       "1  10261004.0    AL     3.0       6.0         6.0                  3.0   \n",
       "2  10263002.0    TN     3.0       6.0         1.0                  1.0   \n",
       "3  10265022.0    AL     3.0       6.0         1.0                  1.0   \n",
       "4  10265022.0    AL     3.0       6.0         1.0                  1.0   \n",
       "\n",
       "   GENDER_CODE  Primary_TOP  Primary_PE Primary_AD Secondary  \\\n",
       "0          1.0         20.0        30.0         FM        GS   \n",
       "1          1.0         20.0        30.0         IM       HEM   \n",
       "2          1.0         71.0        11.0         EM        PS   \n",
       "3          1.0         20.0        30.0         FM        US   \n",
       "4          1.0         20.0        30.0         FM        US   \n",
       "\n",
       "  RX_Restriction_Indicator  customer_id  MyProd1_Rx  MyProd2_Rx  CompProd1_Rx  \\\n",
       "0                        N          326         0.0    0.282792       11.4531   \n",
       "1                        N          355         0.0    0.000000       16.8683   \n",
       "2                        N          412         0.0    0.000000       25.6941   \n",
       "3                        N          479         0.0    0.000000       20.6320   \n",
       "4                        N          486         0.0    0.000000       35.0081   \n",
       "\n",
       "   CompProd2_Rx  CompProd3_Rx   Age  YrsPractice  \n",
       "0       17.9303        4.8554  89.0         57.0  \n",
       "1       20.1757        2.3040  80.0         55.0  \n",
       "2        6.0275        0.0000  78.0         53.0  \n",
       "3        5.6000        2.9553  78.0         51.0  \n",
       "4        8.4561        0.0000  78.0         51.0  "
      ]
     },
     "execution_count": 1063,
     "metadata": {},
     "output_type": "execute_result"
    }
   ],
   "source": [
    "data.head()"
   ]
  },
  {
   "cell_type": "code",
   "execution_count": 1064,
   "metadata": {
    "collapsed": true
   },
   "outputs": [],
   "source": [
    "newdata=data.groupby('ID',sort=False,as_index=False).agg({'MyProd1_Rx':sum,'MyProd2_Rx':sum,'CompProd1_Rx':sum,\n",
    "                                                          'CompProd2_Rx':sum,'CompProd3_Rx':sum,'customer_id':'count'})\n",
    "newdata.rename(columns={'customer_id':'Cust_count'}, inplace=True)"
   ]
  },
  {
   "cell_type": "code",
   "execution_count": 1065,
   "metadata": {
    "collapsed": true
   },
   "outputs": [],
   "source": [
    "# to create a unique id data frame of data table"
   ]
  },
  {
   "cell_type": "code",
   "execution_count": 1066,
   "metadata": {
    "collapsed": true
   },
   "outputs": [],
   "source": [
    "tj=data.drop_duplicates(subset=['ID'])"
   ]
  },
  {
   "cell_type": "code",
   "execution_count": 1067,
   "metadata": {},
   "outputs": [
    {
     "data": {
      "text/plain": [
       "(34861, 20)"
      ]
     },
     "execution_count": 1067,
     "metadata": {},
     "output_type": "execute_result"
    }
   ],
   "source": [
    "tj.shape"
   ]
  },
  {
   "cell_type": "code",
   "execution_count": 1068,
   "metadata": {},
   "outputs": [
    {
     "data": {
      "text/plain": [
       "(34861, 7)"
      ]
     },
     "execution_count": 1068,
     "metadata": {},
     "output_type": "execute_result"
    }
   ],
   "source": [
    "newdata.shape"
   ]
  },
  {
   "cell_type": "code",
   "execution_count": 1069,
   "metadata": {
    "collapsed": true
   },
   "outputs": [],
   "source": [
    "mod_data=newdata.join(tj.set_index('ID')[['State', 'Region', 'Division', 'Group_Name',\n",
    "       'MSA_Population_Size', 'GENDER_CODE', 'Primary_TOP', 'Primary_PE',\n",
    "       'Primary_AD', 'Secondary', 'RX_Restriction_Indicator','Age', 'YrsPractice']], on='ID')"
   ]
  },
  {
   "cell_type": "code",
   "execution_count": 1070,
   "metadata": {},
   "outputs": [
    {
     "data": {
      "text/html": [
       "<div>\n",
       "<style>\n",
       "    .dataframe thead tr:only-child th {\n",
       "        text-align: right;\n",
       "    }\n",
       "\n",
       "    .dataframe thead th {\n",
       "        text-align: left;\n",
       "    }\n",
       "\n",
       "    .dataframe tbody tr th {\n",
       "        vertical-align: top;\n",
       "    }\n",
       "</style>\n",
       "<table border=\"1\" class=\"dataframe\">\n",
       "  <thead>\n",
       "    <tr style=\"text-align: right;\">\n",
       "      <th></th>\n",
       "      <th>ID</th>\n",
       "      <th>MyProd1_Rx</th>\n",
       "      <th>MyProd2_Rx</th>\n",
       "      <th>CompProd1_Rx</th>\n",
       "      <th>CompProd2_Rx</th>\n",
       "      <th>CompProd3_Rx</th>\n",
       "      <th>Cust_count</th>\n",
       "      <th>State</th>\n",
       "      <th>Region</th>\n",
       "      <th>Division</th>\n",
       "      <th>Group_Name</th>\n",
       "      <th>MSA_Population_Size</th>\n",
       "      <th>GENDER_CODE</th>\n",
       "      <th>Primary_TOP</th>\n",
       "      <th>Primary_PE</th>\n",
       "      <th>Primary_AD</th>\n",
       "      <th>Secondary</th>\n",
       "      <th>RX_Restriction_Indicator</th>\n",
       "      <th>Age</th>\n",
       "      <th>YrsPractice</th>\n",
       "    </tr>\n",
       "  </thead>\n",
       "  <tbody>\n",
       "    <tr>\n",
       "      <th>0</th>\n",
       "      <td>10259059.0</td>\n",
       "      <td>0.0</td>\n",
       "      <td>0.282792</td>\n",
       "      <td>11.4531</td>\n",
       "      <td>17.9303</td>\n",
       "      <td>4.8554</td>\n",
       "      <td>1</td>\n",
       "      <td>AL</td>\n",
       "      <td>3.0</td>\n",
       "      <td>6.0</td>\n",
       "      <td>1.0</td>\n",
       "      <td>1.0</td>\n",
       "      <td>1.0</td>\n",
       "      <td>20.0</td>\n",
       "      <td>30.0</td>\n",
       "      <td>FM</td>\n",
       "      <td>GS</td>\n",
       "      <td>N</td>\n",
       "      <td>89.0</td>\n",
       "      <td>57.0</td>\n",
       "    </tr>\n",
       "    <tr>\n",
       "      <th>1</th>\n",
       "      <td>10261004.0</td>\n",
       "      <td>0.0</td>\n",
       "      <td>0.000000</td>\n",
       "      <td>16.8683</td>\n",
       "      <td>20.1757</td>\n",
       "      <td>2.3040</td>\n",
       "      <td>1</td>\n",
       "      <td>AL</td>\n",
       "      <td>3.0</td>\n",
       "      <td>6.0</td>\n",
       "      <td>6.0</td>\n",
       "      <td>3.0</td>\n",
       "      <td>1.0</td>\n",
       "      <td>20.0</td>\n",
       "      <td>30.0</td>\n",
       "      <td>IM</td>\n",
       "      <td>HEM</td>\n",
       "      <td>N</td>\n",
       "      <td>80.0</td>\n",
       "      <td>55.0</td>\n",
       "    </tr>\n",
       "    <tr>\n",
       "      <th>2</th>\n",
       "      <td>10263002.0</td>\n",
       "      <td>0.0</td>\n",
       "      <td>0.000000</td>\n",
       "      <td>25.6941</td>\n",
       "      <td>6.0275</td>\n",
       "      <td>0.0000</td>\n",
       "      <td>1</td>\n",
       "      <td>TN</td>\n",
       "      <td>3.0</td>\n",
       "      <td>6.0</td>\n",
       "      <td>1.0</td>\n",
       "      <td>1.0</td>\n",
       "      <td>1.0</td>\n",
       "      <td>71.0</td>\n",
       "      <td>11.0</td>\n",
       "      <td>EM</td>\n",
       "      <td>PS</td>\n",
       "      <td>N</td>\n",
       "      <td>78.0</td>\n",
       "      <td>53.0</td>\n",
       "    </tr>\n",
       "    <tr>\n",
       "      <th>3</th>\n",
       "      <td>10265022.0</td>\n",
       "      <td>0.0</td>\n",
       "      <td>0.000000</td>\n",
       "      <td>62.6654</td>\n",
       "      <td>30.1471</td>\n",
       "      <td>10.1282</td>\n",
       "      <td>3</td>\n",
       "      <td>AL</td>\n",
       "      <td>3.0</td>\n",
       "      <td>6.0</td>\n",
       "      <td>1.0</td>\n",
       "      <td>1.0</td>\n",
       "      <td>1.0</td>\n",
       "      <td>20.0</td>\n",
       "      <td>30.0</td>\n",
       "      <td>FM</td>\n",
       "      <td>US</td>\n",
       "      <td>N</td>\n",
       "      <td>78.0</td>\n",
       "      <td>51.0</td>\n",
       "    </tr>\n",
       "    <tr>\n",
       "      <th>4</th>\n",
       "      <td>10267017.0</td>\n",
       "      <td>0.0</td>\n",
       "      <td>0.000000</td>\n",
       "      <td>10.8467</td>\n",
       "      <td>0.0000</td>\n",
       "      <td>4.3313</td>\n",
       "      <td>1</td>\n",
       "      <td>AL</td>\n",
       "      <td>3.0</td>\n",
       "      <td>6.0</td>\n",
       "      <td>6.0</td>\n",
       "      <td>3.0</td>\n",
       "      <td>1.0</td>\n",
       "      <td>20.0</td>\n",
       "      <td>30.0</td>\n",
       "      <td>FM</td>\n",
       "      <td>AM</td>\n",
       "      <td>N</td>\n",
       "      <td>75.0</td>\n",
       "      <td>49.0</td>\n",
       "    </tr>\n",
       "  </tbody>\n",
       "</table>\n",
       "</div>"
      ],
      "text/plain": [
       "           ID  MyProd1_Rx  MyProd2_Rx  CompProd1_Rx  CompProd2_Rx  \\\n",
       "0  10259059.0         0.0    0.282792       11.4531       17.9303   \n",
       "1  10261004.0         0.0    0.000000       16.8683       20.1757   \n",
       "2  10263002.0         0.0    0.000000       25.6941        6.0275   \n",
       "3  10265022.0         0.0    0.000000       62.6654       30.1471   \n",
       "4  10267017.0         0.0    0.000000       10.8467        0.0000   \n",
       "\n",
       "   CompProd3_Rx  Cust_count State  Region  Division  Group_Name  \\\n",
       "0        4.8554           1    AL     3.0       6.0         1.0   \n",
       "1        2.3040           1    AL     3.0       6.0         6.0   \n",
       "2        0.0000           1    TN     3.0       6.0         1.0   \n",
       "3       10.1282           3    AL     3.0       6.0         1.0   \n",
       "4        4.3313           1    AL     3.0       6.0         6.0   \n",
       "\n",
       "   MSA_Population_Size  GENDER_CODE  Primary_TOP  Primary_PE Primary_AD  \\\n",
       "0                  1.0          1.0         20.0        30.0         FM   \n",
       "1                  3.0          1.0         20.0        30.0         IM   \n",
       "2                  1.0          1.0         71.0        11.0         EM   \n",
       "3                  1.0          1.0         20.0        30.0         FM   \n",
       "4                  3.0          1.0         20.0        30.0         FM   \n",
       "\n",
       "  Secondary RX_Restriction_Indicator   Age  YrsPractice  \n",
       "0        GS                        N  89.0         57.0  \n",
       "1       HEM                        N  80.0         55.0  \n",
       "2        PS                        N  78.0         53.0  \n",
       "3        US                        N  78.0         51.0  \n",
       "4        AM                        N  75.0         49.0  "
      ]
     },
     "execution_count": 1070,
     "metadata": {},
     "output_type": "execute_result"
    }
   ],
   "source": [
    "mod_data.head()"
   ]
  },
  {
   "cell_type": "code",
   "execution_count": 1071,
   "metadata": {},
   "outputs": [
    {
     "data": {
      "text/html": [
       "<div>\n",
       "<style>\n",
       "    .dataframe thead tr:only-child th {\n",
       "        text-align: right;\n",
       "    }\n",
       "\n",
       "    .dataframe thead th {\n",
       "        text-align: left;\n",
       "    }\n",
       "\n",
       "    .dataframe tbody tr th {\n",
       "        vertical-align: top;\n",
       "    }\n",
       "</style>\n",
       "<table border=\"1\" class=\"dataframe\">\n",
       "  <thead>\n",
       "    <tr style=\"text-align: right;\">\n",
       "      <th></th>\n",
       "      <th>ID</th>\n",
       "      <th>MyProd1_Rx</th>\n",
       "      <th>MyProd2_Rx</th>\n",
       "      <th>CompProd1_Rx</th>\n",
       "      <th>CompProd2_Rx</th>\n",
       "      <th>CompProd3_Rx</th>\n",
       "      <th>Cust_count</th>\n",
       "      <th>Region</th>\n",
       "      <th>Division</th>\n",
       "      <th>Group_Name</th>\n",
       "      <th>MSA_Population_Size</th>\n",
       "      <th>GENDER_CODE</th>\n",
       "      <th>Primary_TOP</th>\n",
       "      <th>Primary_PE</th>\n",
       "      <th>Age</th>\n",
       "      <th>YrsPractice</th>\n",
       "    </tr>\n",
       "  </thead>\n",
       "  <tbody>\n",
       "    <tr>\n",
       "      <th>count</th>\n",
       "      <td>3.486100e+04</td>\n",
       "      <td>34861.000000</td>\n",
       "      <td>34861.000000</td>\n",
       "      <td>34861.000000</td>\n",
       "      <td>34861.000000</td>\n",
       "      <td>34861.000000</td>\n",
       "      <td>34861.000000</td>\n",
       "      <td>34861.000000</td>\n",
       "      <td>34861.000000</td>\n",
       "      <td>34861.000000</td>\n",
       "      <td>34861.000000</td>\n",
       "      <td>34861.000000</td>\n",
       "      <td>34861.000000</td>\n",
       "      <td>34861.000000</td>\n",
       "      <td>34861.000000</td>\n",
       "      <td>34861.000000</td>\n",
       "    </tr>\n",
       "    <tr>\n",
       "      <th>mean</th>\n",
       "      <td>1.454980e+09</td>\n",
       "      <td>0.008341</td>\n",
       "      <td>0.013096</td>\n",
       "      <td>28.246603</td>\n",
       "      <td>31.224377</td>\n",
       "      <td>15.701511</td>\n",
       "      <td>2.214767</td>\n",
       "      <td>2.589111</td>\n",
       "      <td>4.979461</td>\n",
       "      <td>5.163134</td>\n",
       "      <td>3.198761</td>\n",
       "      <td>1.254439</td>\n",
       "      <td>21.648404</td>\n",
       "      <td>36.002754</td>\n",
       "      <td>54.132498</td>\n",
       "      <td>26.410946</td>\n",
       "    </tr>\n",
       "    <tr>\n",
       "      <th>std</th>\n",
       "      <td>2.405035e+09</td>\n",
       "      <td>0.058899</td>\n",
       "      <td>0.068332</td>\n",
       "      <td>90.857494</td>\n",
       "      <td>98.299917</td>\n",
       "      <td>30.204725</td>\n",
       "      <td>7.323919</td>\n",
       "      <td>0.987362</td>\n",
       "      <td>2.428184</td>\n",
       "      <td>1.777346</td>\n",
       "      <td>1.116786</td>\n",
       "      <td>0.435552</td>\n",
       "      <td>10.272578</td>\n",
       "      <td>28.133805</td>\n",
       "      <td>10.724256</td>\n",
       "      <td>10.630565</td>\n",
       "    </tr>\n",
       "    <tr>\n",
       "      <th>min</th>\n",
       "      <td>1.020002e+07</td>\n",
       "      <td>0.000000</td>\n",
       "      <td>0.000000</td>\n",
       "      <td>0.000000</td>\n",
       "      <td>0.000000</td>\n",
       "      <td>0.000000</td>\n",
       "      <td>1.000000</td>\n",
       "      <td>0.000000</td>\n",
       "      <td>0.000000</td>\n",
       "      <td>1.000000</td>\n",
       "      <td>1.000000</td>\n",
       "      <td>1.000000</td>\n",
       "      <td>12.000000</td>\n",
       "      <td>11.000000</td>\n",
       "      <td>30.000000</td>\n",
       "      <td>2.000000</td>\n",
       "    </tr>\n",
       "    <tr>\n",
       "      <th>25%</th>\n",
       "      <td>2.106080e+08</td>\n",
       "      <td>0.000000</td>\n",
       "      <td>0.000000</td>\n",
       "      <td>6.100800</td>\n",
       "      <td>8.175300</td>\n",
       "      <td>3.012600</td>\n",
       "      <td>1.000000</td>\n",
       "      <td>2.000000</td>\n",
       "      <td>3.000000</td>\n",
       "      <td>6.000000</td>\n",
       "      <td>3.000000</td>\n",
       "      <td>1.000000</td>\n",
       "      <td>20.000000</td>\n",
       "      <td>30.000000</td>\n",
       "      <td>46.000000</td>\n",
       "      <td>18.000000</td>\n",
       "    </tr>\n",
       "    <tr>\n",
       "      <th>50%</th>\n",
       "      <td>3.840892e+08</td>\n",
       "      <td>0.000000</td>\n",
       "      <td>0.000000</td>\n",
       "      <td>15.976900</td>\n",
       "      <td>18.470200</td>\n",
       "      <td>9.958300</td>\n",
       "      <td>1.000000</td>\n",
       "      <td>3.000000</td>\n",
       "      <td>5.000000</td>\n",
       "      <td>6.000000</td>\n",
       "      <td>4.000000</td>\n",
       "      <td>1.000000</td>\n",
       "      <td>20.000000</td>\n",
       "      <td>30.000000</td>\n",
       "      <td>54.000000</td>\n",
       "      <td>26.000000</td>\n",
       "    </tr>\n",
       "    <tr>\n",
       "      <th>75%</th>\n",
       "      <td>5.404882e+08</td>\n",
       "      <td>0.000000</td>\n",
       "      <td>0.000000</td>\n",
       "      <td>32.010300</td>\n",
       "      <td>35.124600</td>\n",
       "      <td>20.256800</td>\n",
       "      <td>2.000000</td>\n",
       "      <td>3.000000</td>\n",
       "      <td>7.000000</td>\n",
       "      <td>6.000000</td>\n",
       "      <td>4.000000</td>\n",
       "      <td>2.000000</td>\n",
       "      <td>20.000000</td>\n",
       "      <td>30.000000</td>\n",
       "      <td>62.000000</td>\n",
       "      <td>34.000000</td>\n",
       "    </tr>\n",
       "    <tr>\n",
       "      <th>max</th>\n",
       "      <td>9.571183e+09</td>\n",
       "      <td>2.312231</td>\n",
       "      <td>2.462000</td>\n",
       "      <td>5672.168900</td>\n",
       "      <td>6794.673800</td>\n",
       "      <td>1536.723600</td>\n",
       "      <td>550.000000</td>\n",
       "      <td>4.000000</td>\n",
       "      <td>9.000000</td>\n",
       "      <td>6.000000</td>\n",
       "      <td>4.000000</td>\n",
       "      <td>2.000000</td>\n",
       "      <td>100.000000</td>\n",
       "      <td>110.000000</td>\n",
       "      <td>116.000000</td>\n",
       "      <td>68.000000</td>\n",
       "    </tr>\n",
       "  </tbody>\n",
       "</table>\n",
       "</div>"
      ],
      "text/plain": [
       "                 ID    MyProd1_Rx    MyProd2_Rx  CompProd1_Rx  CompProd2_Rx  \\\n",
       "count  3.486100e+04  34861.000000  34861.000000  34861.000000  34861.000000   \n",
       "mean   1.454980e+09      0.008341      0.013096     28.246603     31.224377   \n",
       "std    2.405035e+09      0.058899      0.068332     90.857494     98.299917   \n",
       "min    1.020002e+07      0.000000      0.000000      0.000000      0.000000   \n",
       "25%    2.106080e+08      0.000000      0.000000      6.100800      8.175300   \n",
       "50%    3.840892e+08      0.000000      0.000000     15.976900     18.470200   \n",
       "75%    5.404882e+08      0.000000      0.000000     32.010300     35.124600   \n",
       "max    9.571183e+09      2.312231      2.462000   5672.168900   6794.673800   \n",
       "\n",
       "       CompProd3_Rx    Cust_count        Region      Division    Group_Name  \\\n",
       "count  34861.000000  34861.000000  34861.000000  34861.000000  34861.000000   \n",
       "mean      15.701511      2.214767      2.589111      4.979461      5.163134   \n",
       "std       30.204725      7.323919      0.987362      2.428184      1.777346   \n",
       "min        0.000000      1.000000      0.000000      0.000000      1.000000   \n",
       "25%        3.012600      1.000000      2.000000      3.000000      6.000000   \n",
       "50%        9.958300      1.000000      3.000000      5.000000      6.000000   \n",
       "75%       20.256800      2.000000      3.000000      7.000000      6.000000   \n",
       "max     1536.723600    550.000000      4.000000      9.000000      6.000000   \n",
       "\n",
       "       MSA_Population_Size   GENDER_CODE   Primary_TOP    Primary_PE  \\\n",
       "count         34861.000000  34861.000000  34861.000000  34861.000000   \n",
       "mean              3.198761      1.254439     21.648404     36.002754   \n",
       "std               1.116786      0.435552     10.272578     28.133805   \n",
       "min               1.000000      1.000000     12.000000     11.000000   \n",
       "25%               3.000000      1.000000     20.000000     30.000000   \n",
       "50%               4.000000      1.000000     20.000000     30.000000   \n",
       "75%               4.000000      2.000000     20.000000     30.000000   \n",
       "max               4.000000      2.000000    100.000000    110.000000   \n",
       "\n",
       "                Age   YrsPractice  \n",
       "count  34861.000000  34861.000000  \n",
       "mean      54.132498     26.410946  \n",
       "std       10.724256     10.630565  \n",
       "min       30.000000      2.000000  \n",
       "25%       46.000000     18.000000  \n",
       "50%       54.000000     26.000000  \n",
       "75%       62.000000     34.000000  \n",
       "max      116.000000     68.000000  "
      ]
     },
     "execution_count": 1071,
     "metadata": {},
     "output_type": "execute_result"
    }
   ],
   "source": [
    "mod_data.describe()"
   ]
  },
  {
   "cell_type": "code",
   "execution_count": 1072,
   "metadata": {},
   "outputs": [
    {
     "data": {
      "text/plain": [
       "131"
      ]
     },
     "execution_count": 1072,
     "metadata": {},
     "output_type": "execute_result"
    }
   ],
   "source": [
    "len(mod_data['Primary_AD'].unique())"
   ]
  },
  {
   "cell_type": "code",
   "execution_count": 1073,
   "metadata": {},
   "outputs": [
    {
     "data": {
      "text/plain": [
       "54"
      ]
     },
     "execution_count": 1073,
     "metadata": {},
     "output_type": "execute_result"
    }
   ],
   "source": [
    "len(mod_data['State'].unique())"
   ]
  },
  {
   "cell_type": "code",
   "execution_count": 1074,
   "metadata": {
    "collapsed": true
   },
   "outputs": [],
   "source": [
    "#Removing doctors of age more than 9 "
   ]
  },
  {
   "cell_type": "code",
   "execution_count": 1075,
   "metadata": {
    "collapsed": true
   },
   "outputs": [],
   "source": [
    "mod_data=mod_data[mod_data['Age']<90]"
   ]
  },
  {
   "cell_type": "code",
   "execution_count": 1076,
   "metadata": {
    "collapsed": true
   },
   "outputs": [],
   "source": [
    "# Removing doctors who have restricted our prescription in the past"
   ]
  },
  {
   "cell_type": "code",
   "execution_count": 1077,
   "metadata": {
    "collapsed": true
   },
   "outputs": [],
   "source": [
    "mod_data=mod_data[mod_data['RX_Restriction_Indicator']!='Y']"
   ]
  },
  {
   "cell_type": "code",
   "execution_count": 1078,
   "metadata": {
    "collapsed": true
   },
   "outputs": [],
   "source": [
    "# Assuming sales figure in '0000's so multiplying each column of sales by 10000 "
   ]
  },
  {
   "cell_type": "code",
   "execution_count": 1079,
   "metadata": {
    "collapsed": true
   },
   "outputs": [],
   "source": [
    "mod_data.drop('RX_Restriction_Indicator',axis=1,inplace=True)"
   ]
  },
  {
   "cell_type": "code",
   "execution_count": 1080,
   "metadata": {
    "collapsed": true
   },
   "outputs": [],
   "source": [
    "Col=['MyProd1_Rx', 'MyProd2_Rx', 'CompProd1_Rx', 'CompProd2_Rx',\n",
    "       'CompProd3_Rx']\n",
    "for i in Col:\n",
    "    mod_data[i]=mod_data[i]*10000"
   ]
  },
  {
   "cell_type": "code",
   "execution_count": 1081,
   "metadata": {
    "collapsed": true
   },
   "outputs": [],
   "source": [
    "mod_data=mod_data[(mod_data['MyProd1_Rx']!=0)|(mod_data['MyProd2_Rx']!=0)]"
   ]
  },
  {
   "cell_type": "code",
   "execution_count": 1082,
   "metadata": {},
   "outputs": [
    {
     "data": {
      "text/html": [
       "<div>\n",
       "<style>\n",
       "    .dataframe thead tr:only-child th {\n",
       "        text-align: right;\n",
       "    }\n",
       "\n",
       "    .dataframe thead th {\n",
       "        text-align: left;\n",
       "    }\n",
       "\n",
       "    .dataframe tbody tr th {\n",
       "        vertical-align: top;\n",
       "    }\n",
       "</style>\n",
       "<table border=\"1\" class=\"dataframe\">\n",
       "  <thead>\n",
       "    <tr style=\"text-align: right;\">\n",
       "      <th></th>\n",
       "      <th>ID</th>\n",
       "      <th>MyProd1_Rx</th>\n",
       "      <th>MyProd2_Rx</th>\n",
       "      <th>CompProd1_Rx</th>\n",
       "      <th>CompProd2_Rx</th>\n",
       "      <th>CompProd3_Rx</th>\n",
       "      <th>Cust_count</th>\n",
       "      <th>Region</th>\n",
       "      <th>Division</th>\n",
       "      <th>Group_Name</th>\n",
       "      <th>MSA_Population_Size</th>\n",
       "      <th>GENDER_CODE</th>\n",
       "      <th>Primary_TOP</th>\n",
       "      <th>Primary_PE</th>\n",
       "      <th>Age</th>\n",
       "      <th>YrsPractice</th>\n",
       "    </tr>\n",
       "  </thead>\n",
       "  <tbody>\n",
       "    <tr>\n",
       "      <th>count</th>\n",
       "      <td>3.552000e+03</td>\n",
       "      <td>3552.000000</td>\n",
       "      <td>3552.000000</td>\n",
       "      <td>3.552000e+03</td>\n",
       "      <td>3.552000e+03</td>\n",
       "      <td>3.552000e+03</td>\n",
       "      <td>3552.000000</td>\n",
       "      <td>3552.000000</td>\n",
       "      <td>3552.000000</td>\n",
       "      <td>3552.000000</td>\n",
       "      <td>3552.000000</td>\n",
       "      <td>3552.000000</td>\n",
       "      <td>3552.000000</td>\n",
       "      <td>3552.000000</td>\n",
       "      <td>3552.000000</td>\n",
       "      <td>3552.000000</td>\n",
       "    </tr>\n",
       "    <tr>\n",
       "      <th>mean</th>\n",
       "      <td>1.647675e+09</td>\n",
       "      <td>771.219530</td>\n",
       "      <td>1223.901226</td>\n",
       "      <td>6.619965e+05</td>\n",
       "      <td>7.245270e+05</td>\n",
       "      <td>3.252740e+05</td>\n",
       "      <td>5.183840</td>\n",
       "      <td>2.634854</td>\n",
       "      <td>5.112894</td>\n",
       "      <td>5.170327</td>\n",
       "      <td>3.175394</td>\n",
       "      <td>1.248874</td>\n",
       "      <td>21.544764</td>\n",
       "      <td>37.498592</td>\n",
       "      <td>52.376408</td>\n",
       "      <td>24.754786</td>\n",
       "    </tr>\n",
       "    <tr>\n",
       "      <th>std</th>\n",
       "      <td>2.557006e+09</td>\n",
       "      <td>1620.601371</td>\n",
       "      <td>1742.039118</td>\n",
       "      <td>2.643194e+06</td>\n",
       "      <td>2.874596e+06</td>\n",
       "      <td>7.666986e+05</td>\n",
       "      <td>21.894752</td>\n",
       "      <td>0.919975</td>\n",
       "      <td>2.183353</td>\n",
       "      <td>1.769127</td>\n",
       "      <td>1.103453</td>\n",
       "      <td>0.432421</td>\n",
       "      <td>10.401337</td>\n",
       "      <td>30.817035</td>\n",
       "      <td>10.586514</td>\n",
       "      <td>10.795576</td>\n",
       "    </tr>\n",
       "    <tr>\n",
       "      <th>min</th>\n",
       "      <td>1.020002e+07</td>\n",
       "      <td>0.000000</td>\n",
       "      <td>0.000000</td>\n",
       "      <td>0.000000e+00</td>\n",
       "      <td>0.000000e+00</td>\n",
       "      <td>0.000000e+00</td>\n",
       "      <td>1.000000</td>\n",
       "      <td>0.000000</td>\n",
       "      <td>0.000000</td>\n",
       "      <td>1.000000</td>\n",
       "      <td>1.000000</td>\n",
       "      <td>1.000000</td>\n",
       "      <td>12.000000</td>\n",
       "      <td>11.000000</td>\n",
       "      <td>30.000000</td>\n",
       "      <td>4.000000</td>\n",
       "    </tr>\n",
       "    <tr>\n",
       "      <th>25%</th>\n",
       "      <td>2.105736e+08</td>\n",
       "      <td>0.000000</td>\n",
       "      <td>0.000000</td>\n",
       "      <td>8.210825e+04</td>\n",
       "      <td>1.037693e+05</td>\n",
       "      <td>8.134950e+04</td>\n",
       "      <td>1.000000</td>\n",
       "      <td>2.000000</td>\n",
       "      <td>3.000000</td>\n",
       "      <td>6.000000</td>\n",
       "      <td>3.000000</td>\n",
       "      <td>1.000000</td>\n",
       "      <td>20.000000</td>\n",
       "      <td>13.000000</td>\n",
       "      <td>44.000000</td>\n",
       "      <td>16.000000</td>\n",
       "    </tr>\n",
       "    <tr>\n",
       "      <th>50%</th>\n",
       "      <td>3.979986e+08</td>\n",
       "      <td>0.000000</td>\n",
       "      <td>777.153850</td>\n",
       "      <td>2.002230e+05</td>\n",
       "      <td>2.226140e+05</td>\n",
       "      <td>1.806450e+05</td>\n",
       "      <td>2.000000</td>\n",
       "      <td>3.000000</td>\n",
       "      <td>5.000000</td>\n",
       "      <td>6.000000</td>\n",
       "      <td>4.000000</td>\n",
       "      <td>1.000000</td>\n",
       "      <td>20.000000</td>\n",
       "      <td>30.000000</td>\n",
       "      <td>52.000000</td>\n",
       "      <td>24.000000</td>\n",
       "    </tr>\n",
       "    <tr>\n",
       "      <th>75%</th>\n",
       "      <td>1.040110e+09</td>\n",
       "      <td>843.653850</td>\n",
       "      <td>1691.634620</td>\n",
       "      <td>4.439495e+05</td>\n",
       "      <td>4.810518e+05</td>\n",
       "      <td>3.286275e+05</td>\n",
       "      <td>3.000000</td>\n",
       "      <td>3.000000</td>\n",
       "      <td>7.000000</td>\n",
       "      <td>6.000000</td>\n",
       "      <td>4.000000</td>\n",
       "      <td>1.000000</td>\n",
       "      <td>20.000000</td>\n",
       "      <td>30.000000</td>\n",
       "      <td>60.000000</td>\n",
       "      <td>33.000000</td>\n",
       "    </tr>\n",
       "    <tr>\n",
       "      <th>max</th>\n",
       "      <td>9.571183e+09</td>\n",
       "      <td>23122.307690</td>\n",
       "      <td>24620.000000</td>\n",
       "      <td>5.672169e+07</td>\n",
       "      <td>6.794674e+07</td>\n",
       "      <td>1.536724e+07</td>\n",
       "      <td>550.000000</td>\n",
       "      <td>4.000000</td>\n",
       "      <td>9.000000</td>\n",
       "      <td>6.000000</td>\n",
       "      <td>4.000000</td>\n",
       "      <td>2.000000</td>\n",
       "      <td>100.000000</td>\n",
       "      <td>110.000000</td>\n",
       "      <td>89.000000</td>\n",
       "      <td>60.000000</td>\n",
       "    </tr>\n",
       "  </tbody>\n",
       "</table>\n",
       "</div>"
      ],
      "text/plain": [
       "                 ID    MyProd1_Rx    MyProd2_Rx  CompProd1_Rx  CompProd2_Rx  \\\n",
       "count  3.552000e+03   3552.000000   3552.000000  3.552000e+03  3.552000e+03   \n",
       "mean   1.647675e+09    771.219530   1223.901226  6.619965e+05  7.245270e+05   \n",
       "std    2.557006e+09   1620.601371   1742.039118  2.643194e+06  2.874596e+06   \n",
       "min    1.020002e+07      0.000000      0.000000  0.000000e+00  0.000000e+00   \n",
       "25%    2.105736e+08      0.000000      0.000000  8.210825e+04  1.037693e+05   \n",
       "50%    3.979986e+08      0.000000    777.153850  2.002230e+05  2.226140e+05   \n",
       "75%    1.040110e+09    843.653850   1691.634620  4.439495e+05  4.810518e+05   \n",
       "max    9.571183e+09  23122.307690  24620.000000  5.672169e+07  6.794674e+07   \n",
       "\n",
       "       CompProd3_Rx   Cust_count       Region     Division   Group_Name  \\\n",
       "count  3.552000e+03  3552.000000  3552.000000  3552.000000  3552.000000   \n",
       "mean   3.252740e+05     5.183840     2.634854     5.112894     5.170327   \n",
       "std    7.666986e+05    21.894752     0.919975     2.183353     1.769127   \n",
       "min    0.000000e+00     1.000000     0.000000     0.000000     1.000000   \n",
       "25%    8.134950e+04     1.000000     2.000000     3.000000     6.000000   \n",
       "50%    1.806450e+05     2.000000     3.000000     5.000000     6.000000   \n",
       "75%    3.286275e+05     3.000000     3.000000     7.000000     6.000000   \n",
       "max    1.536724e+07   550.000000     4.000000     9.000000     6.000000   \n",
       "\n",
       "       MSA_Population_Size  GENDER_CODE  Primary_TOP   Primary_PE  \\\n",
       "count          3552.000000  3552.000000  3552.000000  3552.000000   \n",
       "mean              3.175394     1.248874    21.544764    37.498592   \n",
       "std               1.103453     0.432421    10.401337    30.817035   \n",
       "min               1.000000     1.000000    12.000000    11.000000   \n",
       "25%               3.000000     1.000000    20.000000    13.000000   \n",
       "50%               4.000000     1.000000    20.000000    30.000000   \n",
       "75%               4.000000     1.000000    20.000000    30.000000   \n",
       "max               4.000000     2.000000   100.000000   110.000000   \n",
       "\n",
       "               Age  YrsPractice  \n",
       "count  3552.000000  3552.000000  \n",
       "mean     52.376408    24.754786  \n",
       "std      10.586514    10.795576  \n",
       "min      30.000000     4.000000  \n",
       "25%      44.000000    16.000000  \n",
       "50%      52.000000    24.000000  \n",
       "75%      60.000000    33.000000  \n",
       "max      89.000000    60.000000  "
      ]
     },
     "execution_count": 1082,
     "metadata": {},
     "output_type": "execute_result"
    }
   ],
   "source": [
    "mod_data.describe()"
   ]
  },
  {
   "cell_type": "code",
   "execution_count": 1083,
   "metadata": {
    "collapsed": true
   },
   "outputs": [],
   "source": [
    "Out_p1=mod_data.pivot_table(index='Group_Name',columns='GENDER_CODE',values='MyProd1_Rx')"
   ]
  },
  {
   "cell_type": "code",
   "execution_count": 1084,
   "metadata": {},
   "outputs": [
    {
     "data": {
      "text/plain": [
       "<matplotlib.axes._subplots.AxesSubplot at 0x2378ad5b2b0>"
      ]
     },
     "execution_count": 1084,
     "metadata": {},
     "output_type": "execute_result"
    },
    {
     "data": {
      "text/plain": [
       "<matplotlib.figure.Figure at 0x2378ad5bb70>"
      ]
     },
     "metadata": {},
     "output_type": "display_data"
    },
    {
     "data": {
      "image/png": "[encoded data removed]",
      "text/plain": [
       "<matplotlib.figure.Figure at 0x2378ad19f98>"
      ]
     },
     "metadata": {},
     "output_type": "display_data"
    }
   ],
   "source": [
    "plt.figure(figsize=(10,10))\n",
    "Out_p1.plot(kind='bar',stacked=True,color=['red','blue'],grid=False)"
   ]
  },
  {
   "cell_type": "markdown",
   "metadata": {},
   "source": [
    "We can see that group4 doctors are contributing least to our product 1 sales which means they are prescribing our product1 least. "
   ]
  },
  {
   "cell_type": "code",
   "execution_count": 1085,
   "metadata": {
    "collapsed": true
   },
   "outputs": [],
   "source": [
    "Out_p2=mod_data.pivot_table(index='Group_Name',columns='GENDER_CODE',values='MyProd2_Rx')"
   ]
  },
  {
   "cell_type": "code",
   "execution_count": 1086,
   "metadata": {},
   "outputs": [
    {
     "data": {
      "text/plain": [
       "<matplotlib.axes._subplots.AxesSubplot at 0x2378eaa80b8>"
      ]
     },
     "execution_count": 1086,
     "metadata": {},
     "output_type": "execute_result"
    },
    {
     "data": {
      "text/plain": [
       "<matplotlib.figure.Figure at 0x2378f0fbd30>"
      ]
     },
     "metadata": {},
     "output_type": "display_data"
    },
    {
     "data": {
      "image/png": "[encoded data removed]",
      "text/plain": [
       "<matplotlib.figure.Figure at 0x23792b85898>"
      ]
     },
     "metadata": {},
     "output_type": "display_data"
    }
   ],
   "source": [
    "plt.figure(figsize=(10,10))\n",
    "Out_p2.plot(kind='bar',stacked=True,color=['red','blue'],grid=False)"
   ]
  },
  {
   "cell_type": "markdown",
   "metadata": {},
   "source": [
    "We saw that doctors group4 doctors were contributing least to product 1 sales, however they are contributing max in product2 sales"
   ]
  },
  {
   "cell_type": "code",
   "execution_count": 1087,
   "metadata": {},
   "outputs": [
    {
     "data": {
      "text/plain": [
       "<matplotlib.axes._subplots.AxesSubplot at 0x2378eab5470>"
      ]
     },
     "execution_count": 1087,
     "metadata": {},
     "output_type": "execute_result"
    },
    {
     "data": {
      "image/png": "[encoded data removed]",
      "text/plain": [
       "<matplotlib.figure.Figure at 0x23794f6c668>"
      ]
     },
     "metadata": {},
     "output_type": "display_data"
    }
   ],
   "source": [
    "plt.figure(figsize=(7,7))\n",
    "# checking for correlation among variables1\n",
    "sns.heatmap(mod_data.drop(['ID','GENDER_CODE','MSA_Population_Size','Group_Name','Region', 'Division','Primary_TOP','Primary_PE'],axis=1).corr(),annot=True, fmt = \".2f\", cmap = \"coolwarm\")"
   ]
  },
  {
   "cell_type": "code",
   "execution_count": 1088,
   "metadata": {
    "collapsed": true
   },
   "outputs": [],
   "source": [
    "#we will first try to model along with  all variables then try to remove one of correlated\n",
    "#variables or aggregating them."
   ]
  },
  {
   "cell_type": "code",
   "execution_count": 1089,
   "metadata": {
    "collapsed": true
   },
   "outputs": [],
   "source": [
    "from scipy.stats import chi2_contingency"
   ]
  },
  {
   "cell_type": "code",
   "execution_count": 1090,
   "metadata": {},
   "outputs": [
    {
     "data": {
      "text/plain": [
       "0.0"
      ]
     },
     "execution_count": 1090,
     "metadata": {},
     "output_type": "execute_result"
    }
   ],
   "source": [
    "a=chi2_contingency(pd.crosstab(mod_data['Region'],mod_data['Division']))\n",
    "a[1]#we can see that region and Division are related with each other as pvalue less than 0.05 "
   ]
  },
  {
   "cell_type": "code",
   "execution_count": 1091,
   "metadata": {},
   "outputs": [
    {
     "data": {
      "text/plain": [
       "0.0"
      ]
     },
     "execution_count": 1091,
     "metadata": {},
     "output_type": "execute_result"
    }
   ],
   "source": [
    "b=chi2_contingency(pd.crosstab(mod_data['Region'],mod_data['State']))\n",
    "b[1]#we can see that region and state are related with each other as pvalue less than 0.05 "
   ]
  },
  {
   "cell_type": "code",
   "execution_count": 1092,
   "metadata": {},
   "outputs": [
    {
     "data": {
      "text/plain": [
       "0.0"
      ]
     },
     "execution_count": 1092,
     "metadata": {},
     "output_type": "execute_result"
    }
   ],
   "source": [
    "c=chi2_contingency(pd.crosstab(mod_data['Division'],mod_data['State']))\n",
    "c[1]#we can see that division and state are related with each other as pvalue less than 0.05 "
   ]
  },
  {
   "cell_type": "code",
   "execution_count": 1093,
   "metadata": {
    "collapsed": true
   },
   "outputs": [],
   "source": [
    "# We can therefore keep any any one of these Division State or Region"
   ]
  },
  {
   "cell_type": "code",
   "execution_count": 1094,
   "metadata": {},
   "outputs": [
    {
     "data": {
      "text/html": [
       "<div>\n",
       "<style>\n",
       "    .dataframe thead tr:only-child th {\n",
       "        text-align: right;\n",
       "    }\n",
       "\n",
       "    .dataframe thead th {\n",
       "        text-align: left;\n",
       "    }\n",
       "\n",
       "    .dataframe tbody tr th {\n",
       "        vertical-align: top;\n",
       "    }\n",
       "</style>\n",
       "<table border=\"1\" class=\"dataframe\">\n",
       "  <thead>\n",
       "    <tr style=\"text-align: right;\">\n",
       "      <th></th>\n",
       "      <th>MyProd1_Rx</th>\n",
       "      <th>MyProd2_Rx</th>\n",
       "    </tr>\n",
       "    <tr>\n",
       "      <th>Region</th>\n",
       "      <th></th>\n",
       "      <th></th>\n",
       "    </tr>\n",
       "  </thead>\n",
       "  <tbody>\n",
       "    <tr>\n",
       "      <th>0.0</th>\n",
       "      <td>0.000000</td>\n",
       "      <td>4449.076920</td>\n",
       "    </tr>\n",
       "    <tr>\n",
       "      <th>1.0</th>\n",
       "      <td>882.528485</td>\n",
       "      <td>1158.919533</td>\n",
       "    </tr>\n",
       "    <tr>\n",
       "      <th>2.0</th>\n",
       "      <td>573.800296</td>\n",
       "      <td>1241.755178</td>\n",
       "    </tr>\n",
       "    <tr>\n",
       "      <th>3.0</th>\n",
       "      <td>784.514786</td>\n",
       "      <td>1270.565399</td>\n",
       "    </tr>\n",
       "    <tr>\n",
       "      <th>4.0</th>\n",
       "      <td>839.513944</td>\n",
       "      <td>1100.191695</td>\n",
       "    </tr>\n",
       "  </tbody>\n",
       "</table>\n",
       "</div>"
      ],
      "text/plain": [
       "        MyProd1_Rx   MyProd2_Rx\n",
       "Region                         \n",
       "0.0       0.000000  4449.076920\n",
       "1.0     882.528485  1158.919533\n",
       "2.0     573.800296  1241.755178\n",
       "3.0     784.514786  1270.565399\n",
       "4.0     839.513944  1100.191695"
      ]
     },
     "execution_count": 1094,
     "metadata": {},
     "output_type": "execute_result"
    }
   ],
   "source": [
    "mod_data.groupby('Region').agg({'MyProd1_Rx':'mean','MyProd2_Rx':'mean'})"
   ]
  },
  {
   "cell_type": "code",
   "execution_count": 1095,
   "metadata": {
    "collapsed": true
   },
   "outputs": [],
   "source": [
    "# we can see different region have different sales so removing Division and State"
   ]
  },
  {
   "cell_type": "code",
   "execution_count": 1096,
   "metadata": {
    "collapsed": true
   },
   "outputs": [],
   "source": [
    "mod_data.drop(['Division','State'],axis=1,inplace=True)"
   ]
  },
  {
   "cell_type": "code",
   "execution_count": 1097,
   "metadata": {},
   "outputs": [
    {
     "data": {
      "text/html": [
       "<div>\n",
       "<style>\n",
       "    .dataframe thead tr:only-child th {\n",
       "        text-align: right;\n",
       "    }\n",
       "\n",
       "    .dataframe thead th {\n",
       "        text-align: left;\n",
       "    }\n",
       "\n",
       "    .dataframe tbody tr th {\n",
       "        vertical-align: top;\n",
       "    }\n",
       "</style>\n",
       "<table border=\"1\" class=\"dataframe\">\n",
       "  <thead>\n",
       "    <tr style=\"text-align: right;\">\n",
       "      <th></th>\n",
       "      <th>ID</th>\n",
       "      <th>MyProd1_Rx</th>\n",
       "      <th>MyProd2_Rx</th>\n",
       "      <th>CompProd1_Rx</th>\n",
       "      <th>CompProd2_Rx</th>\n",
       "      <th>CompProd3_Rx</th>\n",
       "      <th>Cust_count</th>\n",
       "      <th>Region</th>\n",
       "      <th>Group_Name</th>\n",
       "      <th>MSA_Population_Size</th>\n",
       "      <th>GENDER_CODE</th>\n",
       "      <th>Primary_TOP</th>\n",
       "      <th>Primary_PE</th>\n",
       "      <th>Primary_AD</th>\n",
       "      <th>Secondary</th>\n",
       "      <th>Age</th>\n",
       "      <th>YrsPractice</th>\n",
       "    </tr>\n",
       "  </thead>\n",
       "  <tbody>\n",
       "    <tr>\n",
       "      <th>0</th>\n",
       "      <td>10259059.0</td>\n",
       "      <td>0.00000</td>\n",
       "      <td>2827.92308</td>\n",
       "      <td>114531.0</td>\n",
       "      <td>179303.0</td>\n",
       "      <td>48554.0</td>\n",
       "      <td>1</td>\n",
       "      <td>3.0</td>\n",
       "      <td>1.0</td>\n",
       "      <td>1.0</td>\n",
       "      <td>1.0</td>\n",
       "      <td>20.0</td>\n",
       "      <td>30.0</td>\n",
       "      <td>FM</td>\n",
       "      <td>GS</td>\n",
       "      <td>89.0</td>\n",
       "      <td>57.0</td>\n",
       "    </tr>\n",
       "    <tr>\n",
       "      <th>5</th>\n",
       "      <td>10268036.0</td>\n",
       "      <td>0.00000</td>\n",
       "      <td>769.23077</td>\n",
       "      <td>305094.0</td>\n",
       "      <td>592283.0</td>\n",
       "      <td>475168.0</td>\n",
       "      <td>5</td>\n",
       "      <td>3.0</td>\n",
       "      <td>6.0</td>\n",
       "      <td>3.0</td>\n",
       "      <td>1.0</td>\n",
       "      <td>20.0</td>\n",
       "      <td>30.0</td>\n",
       "      <td>ORS</td>\n",
       "      <td>GS</td>\n",
       "      <td>74.0</td>\n",
       "      <td>48.0</td>\n",
       "    </tr>\n",
       "    <tr>\n",
       "      <th>7</th>\n",
       "      <td>10274128.0</td>\n",
       "      <td>2768.15385</td>\n",
       "      <td>6249.76923</td>\n",
       "      <td>226475.0</td>\n",
       "      <td>116587.0</td>\n",
       "      <td>707787.0</td>\n",
       "      <td>1</td>\n",
       "      <td>3.0</td>\n",
       "      <td>1.0</td>\n",
       "      <td>1.0</td>\n",
       "      <td>1.0</td>\n",
       "      <td>20.0</td>\n",
       "      <td>30.0</td>\n",
       "      <td>FM</td>\n",
       "      <td>US</td>\n",
       "      <td>68.0</td>\n",
       "      <td>42.0</td>\n",
       "    </tr>\n",
       "    <tr>\n",
       "      <th>8</th>\n",
       "      <td>10275158.0</td>\n",
       "      <td>0.00000</td>\n",
       "      <td>307.69231</td>\n",
       "      <td>194242.0</td>\n",
       "      <td>312433.0</td>\n",
       "      <td>161874.0</td>\n",
       "      <td>1</td>\n",
       "      <td>4.0</td>\n",
       "      <td>6.0</td>\n",
       "      <td>3.0</td>\n",
       "      <td>1.0</td>\n",
       "      <td>20.0</td>\n",
       "      <td>30.0</td>\n",
       "      <td>FM</td>\n",
       "      <td>US</td>\n",
       "      <td>65.0</td>\n",
       "      <td>41.0</td>\n",
       "    </tr>\n",
       "    <tr>\n",
       "      <th>12</th>\n",
       "      <td>10277050.0</td>\n",
       "      <td>0.00000</td>\n",
       "      <td>1145.61538</td>\n",
       "      <td>145698.0</td>\n",
       "      <td>228027.0</td>\n",
       "      <td>46080.0</td>\n",
       "      <td>2</td>\n",
       "      <td>3.0</td>\n",
       "      <td>1.0</td>\n",
       "      <td>1.0</td>\n",
       "      <td>1.0</td>\n",
       "      <td>20.0</td>\n",
       "      <td>11.0</td>\n",
       "      <td>IM</td>\n",
       "      <td>PUD</td>\n",
       "      <td>64.0</td>\n",
       "      <td>39.0</td>\n",
       "    </tr>\n",
       "  </tbody>\n",
       "</table>\n",
       "</div>"
      ],
      "text/plain": [
       "            ID  MyProd1_Rx  MyProd2_Rx  CompProd1_Rx  CompProd2_Rx  \\\n",
       "0   10259059.0     0.00000  2827.92308      114531.0      179303.0   \n",
       "5   10268036.0     0.00000   769.23077      305094.0      592283.0   \n",
       "7   10274128.0  2768.15385  6249.76923      226475.0      116587.0   \n",
       "8   10275158.0     0.00000   307.69231      194242.0      312433.0   \n",
       "12  10277050.0     0.00000  1145.61538      145698.0      228027.0   \n",
       "\n",
       "    CompProd3_Rx  Cust_count  Region  Group_Name  MSA_Population_Size  \\\n",
       "0        48554.0           1     3.0         1.0                  1.0   \n",
       "5       475168.0           5     3.0         6.0                  3.0   \n",
       "7       707787.0           1     3.0         1.0                  1.0   \n",
       "8       161874.0           1     4.0         6.0                  3.0   \n",
       "12       46080.0           2     3.0         1.0                  1.0   \n",
       "\n",
       "    GENDER_CODE  Primary_TOP  Primary_PE Primary_AD Secondary   Age  \\\n",
       "0           1.0         20.0        30.0         FM        GS  89.0   \n",
       "5           1.0         20.0        30.0        ORS        GS  74.0   \n",
       "7           1.0         20.0        30.0         FM        US  68.0   \n",
       "8           1.0         20.0        30.0         FM        US  65.0   \n",
       "12          1.0         20.0        11.0         IM       PUD  64.0   \n",
       "\n",
       "    YrsPractice  \n",
       "0          57.0  \n",
       "5          48.0  \n",
       "7          42.0  \n",
       "8          41.0  \n",
       "12         39.0  "
      ]
     },
     "execution_count": 1097,
     "metadata": {},
     "output_type": "execute_result"
    }
   ],
   "source": [
    "mod_data.head()"
   ]
  },
  {
   "cell_type": "code",
   "execution_count": 1098,
   "metadata": {},
   "outputs": [
    {
     "data": {
      "text/plain": [
       "Primary_AD\n",
       "AMI       0.000000\n",
       "AN     2101.810845\n",
       "APM    1456.522266\n",
       "CCM     370.794873\n",
       "CD     1164.780219\n",
       "CS      888.230770\n",
       "EM     1468.802198\n",
       "END    2478.692305\n",
       "FM      632.434646\n",
       "FP      643.680475\n",
       "FPG    1519.769233\n",
       "FSM    1424.995727\n",
       "GE      542.487177\n",
       "GP      459.570940\n",
       "GPM    1327.476924\n",
       "GS      676.598901\n",
       "GYN       0.000000\n",
       "HEM     430.615385\n",
       "HO      171.692307\n",
       "HS      889.230769\n",
       "HSO    1514.615385\n",
       "HSP    1859.769230\n",
       "ID     2032.307690\n",
       "IFP     625.076920\n",
       "IM      678.349249\n",
       "IMG     337.159763\n",
       "MEM       0.000000\n",
       "MG      516.692310\n",
       "MPD     784.599606\n",
       "N      1029.945701\n",
       "          ...     \n",
       "NMP     769.230770\n",
       "NS     1206.903847\n",
       "OAR     430.623931\n",
       "OBG    1323.377622\n",
       "OCC     421.076920\n",
       "OFA     999.743590\n",
       "OM      939.901097\n",
       "OMF    4621.692310\n",
       "OP     1090.230770\n",
       "ORS     973.445344\n",
       "OS        0.000000\n",
       "OSM    1065.457101\n",
       "OSS    1450.269231\n",
       "OTR     530.692310\n",
       "P      3638.615383\n",
       "PCC       0.000000\n",
       "PD     1025.692310\n",
       "PM      939.002630\n",
       "PME    1425.593846\n",
       "PMM    1067.133136\n",
       "PMP       0.000000\n",
       "PSM       0.000000\n",
       "PTH       0.000000\n",
       "PUD     549.769230\n",
       "R         0.000000\n",
       "RHU     754.075620\n",
       "SCI       0.000000\n",
       "UCM     199.019230\n",
       "US      766.176715\n",
       "VM        0.000000\n",
       "Name: MyProd1_Rx, Length: 61, dtype: float64"
      ]
     },
     "execution_count": 1098,
     "metadata": {},
     "output_type": "execute_result"
    }
   ],
   "source": [
    "mod_data.groupby('Primary_AD').MyProd1_Rx.mean()\n",
    "#we can see that irrespective of Speciality our products are being prescribed so we can remove primary and secondary "
   ]
  },
  {
   "cell_type": "code",
   "execution_count": 1099,
   "metadata": {
    "collapsed": true
   },
   "outputs": [],
   "source": [
    "mod_data.drop(['Primary_AD','Secondary'],axis=1,inplace=True)"
   ]
  },
  {
   "cell_type": "code",
   "execution_count": 1100,
   "metadata": {},
   "outputs": [
    {
     "data": {
      "text/plain": [
       "20.0     3440\n",
       "100.0      47\n",
       "12.0       20\n",
       "72.0       13\n",
       "71.0        9\n",
       "40.0        8\n",
       "75.0        6\n",
       "30.0        4\n",
       "74.0        2\n",
       "62.0        2\n",
       "50.0        1\n",
       "Name: Primary_TOP, dtype: int64"
      ]
     },
     "execution_count": 1100,
     "metadata": {},
     "output_type": "execute_result"
    }
   ],
   "source": [
    "mod_data['Primary_TOP'].value_counts()"
   ]
  },
  {
   "cell_type": "code",
   "execution_count": 1101,
   "metadata": {},
   "outputs": [
    {
     "data": {
      "text/plain": [
       "3.0    1839\n",
       "2.0     624\n",
       "1.0     586\n",
       "4.0     502\n",
       "0.0       1\n",
       "Name: Region, dtype: int64"
      ]
     },
     "execution_count": 1101,
     "metadata": {},
     "output_type": "execute_result"
    }
   ],
   "source": [
    "mod_data['Region'].value_counts()"
   ]
  },
  {
   "cell_type": "code",
   "execution_count": 1102,
   "metadata": {},
   "outputs": [
    {
     "data": {
      "text/plain": [
       "30.0     1893\n",
       "11.0      743\n",
       "110.0     461\n",
       "13.0      216\n",
       "63.0      111\n",
       "50.0       56\n",
       "86.0       20\n",
       "82.0       10\n",
       "64.0        8\n",
       "21.0        8\n",
       "40.0        6\n",
       "83.0        5\n",
       "81.0        4\n",
       "85.0        3\n",
       "84.0        3\n",
       "22.0        2\n",
       "35.0        2\n",
       "101.0       1\n",
       "Name: Primary_PE, dtype: int64"
      ]
     },
     "execution_count": 1102,
     "metadata": {},
     "output_type": "execute_result"
    }
   ],
   "source": [
    "mod_data['Primary_PE'].value_counts()"
   ]
  },
  {
   "cell_type": "code",
   "execution_count": 1103,
   "metadata": {},
   "outputs": [
    {
     "data": {
      "text/plain": [
       "0.0"
      ]
     },
     "execution_count": 1103,
     "metadata": {},
     "output_type": "execute_result"
    }
   ],
   "source": [
    "d=chi2_contingency(pd.crosstab(mod_data['Primary_PE'],mod_data['Primary_TOP']))\n",
    "d[1]#we can see that primary pe and primary top  are related with each other as pvalue less than 0.05"
   ]
  },
  {
   "cell_type": "code",
   "execution_count": 1104,
   "metadata": {
    "collapsed": true
   },
   "outputs": [],
   "source": [
    "mod_data.drop(['Primary_TOP'],axis=1,inplace=True)"
   ]
  },
  {
   "cell_type": "code",
   "execution_count": 1105,
   "metadata": {},
   "outputs": [
    {
     "data": {
      "text/plain": [
       "6.0    2737\n",
       "1.0     529\n",
       "5.0     270\n",
       "4.0      16\n",
       "Name: Group_Name, dtype: int64"
      ]
     },
     "execution_count": 1105,
     "metadata": {},
     "output_type": "execute_result"
    }
   ],
   "source": [
    "mod_data['Group_Name'].value_counts()"
   ]
  },
  {
   "cell_type": "code",
   "execution_count": 1106,
   "metadata": {},
   "outputs": [
    {
     "data": {
      "text/plain": [
       "Index(['ID', 'MyProd1_Rx', 'MyProd2_Rx', 'CompProd1_Rx', 'CompProd2_Rx',\n",
       "       'CompProd3_Rx', 'Cust_count', 'Region', 'Group_Name',\n",
       "       'MSA_Population_Size', 'GENDER_CODE', 'Primary_PE', 'Age',\n",
       "       'YrsPractice'],\n",
       "      dtype='object')"
      ]
     },
     "execution_count": 1106,
     "metadata": {},
     "output_type": "execute_result"
    }
   ],
   "source": [
    "mod_data.columns"
   ]
  },
  {
   "cell_type": "code",
   "execution_count": 1107,
   "metadata": {},
   "outputs": [
    {
     "data": {
      "text/plain": [
       "ID                     float64\n",
       "MyProd1_Rx             float64\n",
       "MyProd2_Rx             float64\n",
       "CompProd1_Rx           float64\n",
       "CompProd2_Rx           float64\n",
       "CompProd3_Rx           float64\n",
       "Cust_count               int64\n",
       "Region                 float64\n",
       "Group_Name             float64\n",
       "MSA_Population_Size    float64\n",
       "GENDER_CODE            float64\n",
       "Primary_PE             float64\n",
       "Age                    float64\n",
       "YrsPractice            float64\n",
       "dtype: object"
      ]
     },
     "execution_count": 1107,
     "metadata": {},
     "output_type": "execute_result"
    }
   ],
   "source": [
    "mod_data.dtypes"
   ]
  },
  {
   "cell_type": "code",
   "execution_count": 1108,
   "metadata": {
    "collapsed": true
   },
   "outputs": [],
   "source": [
    "mod_data=mod_data.reset_index(drop=True)"
   ]
  },
  {
   "cell_type": "code",
   "execution_count": 1109,
   "metadata": {
    "collapsed": true
   },
   "outputs": [],
   "source": [
    "#As population size is in acending order it can be treated as numerical variable\n",
    "Col=['Region','Group_Name','GENDER_CODE','Primary_PE']\n",
    "for i in Col:\n",
    "    mod_data[i]=mod_data[i].astype(str)"
   ]
  },
  {
   "cell_type": "code",
   "execution_count": 1110,
   "metadata": {
    "collapsed": true
   },
   "outputs": [],
   "source": [
    "mod_dum=pd.get_dummies(mod_data)"
   ]
  },
  {
   "cell_type": "code",
   "execution_count": 1111,
   "metadata": {
    "collapsed": true
   },
   "outputs": [],
   "source": [
    "#subsetting numerical data\n",
    "mod_num=mod_data[[ 'MyProd1_Rx', 'MyProd2_Rx', 'CompProd1_Rx', 'CompProd2_Rx',\n",
    "       'CompProd3_Rx', 'Cust_count','MSA_Population_Size','Age','YrsPractice']]"
   ]
  },
  {
   "cell_type": "code",
   "execution_count": 1112,
   "metadata": {
    "collapsed": true
   },
   "outputs": [],
   "source": [
    "#doing min max normalisation of numerical variables \n",
    "from sklearn import preprocessing\n",
    "\n",
    " #returns a numpy array\n",
    "min_max_scaler = preprocessing.MinMaxScaler()\n",
    "x_scaled = min_max_scaler.fit_transform(mod_num)\n",
    "df2 = pd.DataFrame(x_scaled,columns=[ 'MyProd1_Rx', 'MyProd2_Rx', 'CompProd1_Rx', 'CompProd2_Rx',\n",
    "       'CompProd3_Rx', 'Cust_count','MSA_Population_Size','Age','YrsPractice'])"
   ]
  },
  {
   "cell_type": "code",
   "execution_count": 1113,
   "metadata": {
    "collapsed": true
   },
   "outputs": [],
   "source": [
    "for i in mod_num:\n",
    "    mod_dum[i]=df2[i]"
   ]
  },
  {
   "cell_type": "code",
   "execution_count": 1114,
   "metadata": {
    "collapsed": true
   },
   "outputs": [],
   "source": [
    "from sklearn.metrics import silhouette_score\n",
    "from sklearn.cluster import KMeans"
   ]
  },
  {
   "cell_type": "code",
   "execution_count": 1115,
   "metadata": {
    "collapsed": true
   },
   "outputs": [],
   "source": [
    "km=KMeans(n_clusters=3,n_init=100,random_state=123)"
   ]
  },
  {
   "cell_type": "code",
   "execution_count": 1116,
   "metadata": {
    "collapsed": true
   },
   "outputs": [],
   "source": [
    "fit=km.fit(mod_dum.drop('ID',axis=1))"
   ]
  },
  {
   "cell_type": "code",
   "execution_count": 1117,
   "metadata": {},
   "outputs": [
    {
     "data": {
      "text/plain": [
       "5615.6012061488218"
      ]
     },
     "execution_count": 1117,
     "metadata": {},
     "output_type": "execute_result"
    }
   ],
   "source": [
    "fit.inertia_"
   ]
  },
  {
   "cell_type": "code",
   "execution_count": 1118,
   "metadata": {},
   "outputs": [
    {
     "data": {
      "text/plain": [
       "0.2474627773089853"
      ]
     },
     "execution_count": 1118,
     "metadata": {},
     "output_type": "execute_result"
    }
   ],
   "source": [
    "silhouette_score(X=mod_dum.drop('ID',axis=1),labels=fit.labels_)"
   ]
  },
  {
   "cell_type": "code",
   "execution_count": 1119,
   "metadata": {
    "collapsed": true
   },
   "outputs": [],
   "source": [
    "cluster=fit.labels_"
   ]
  },
  {
   "cell_type": "code",
   "execution_count": 1120,
   "metadata": {
    "collapsed": true
   },
   "outputs": [],
   "source": [
    "mod_dum['cluster']=cluster"
   ]
  },
  {
   "cell_type": "code",
   "execution_count": 1121,
   "metadata": {},
   "outputs": [
    {
     "data": {
      "text/html": [
       "<div>\n",
       "<style>\n",
       "    .dataframe thead tr:only-child th {\n",
       "        text-align: right;\n",
       "    }\n",
       "\n",
       "    .dataframe thead th {\n",
       "        text-align: left;\n",
       "    }\n",
       "\n",
       "    .dataframe tbody tr th {\n",
       "        vertical-align: top;\n",
       "    }\n",
       "</style>\n",
       "<table border=\"1\" class=\"dataframe\">\n",
       "  <thead>\n",
       "    <tr style=\"text-align: right;\">\n",
       "      <th></th>\n",
       "      <th>cluster</th>\n",
       "      <th>ID</th>\n",
       "      <th>MyProd1_Rx</th>\n",
       "      <th>MyProd2_Rx</th>\n",
       "      <th>CompProd1_Rx</th>\n",
       "      <th>CompProd2_Rx</th>\n",
       "      <th>CompProd3_Rx</th>\n",
       "      <th>Cust_count</th>\n",
       "      <th>MSA_Population_Size</th>\n",
       "      <th>Age</th>\n",
       "      <th>...</th>\n",
       "      <th>Primary_PE_40.0</th>\n",
       "      <th>Primary_PE_50.0</th>\n",
       "      <th>Primary_PE_63.0</th>\n",
       "      <th>Primary_PE_64.0</th>\n",
       "      <th>Primary_PE_81.0</th>\n",
       "      <th>Primary_PE_82.0</th>\n",
       "      <th>Primary_PE_83.0</th>\n",
       "      <th>Primary_PE_84.0</th>\n",
       "      <th>Primary_PE_85.0</th>\n",
       "      <th>Primary_PE_86.0</th>\n",
       "    </tr>\n",
       "  </thead>\n",
       "  <tbody>\n",
       "    <tr>\n",
       "      <th>0</th>\n",
       "      <td>0</td>\n",
       "      <td>1.393218e+09</td>\n",
       "      <td>0.024645</td>\n",
       "      <td>0.061359</td>\n",
       "      <td>0.009775</td>\n",
       "      <td>0.009240</td>\n",
       "      <td>0.021754</td>\n",
       "      <td>0.006326</td>\n",
       "      <td>0.094732</td>\n",
       "      <td>0.386814</td>\n",
       "      <td>...</td>\n",
       "      <td>0.000000</td>\n",
       "      <td>0.009296</td>\n",
       "      <td>0.037185</td>\n",
       "      <td>0.006640</td>\n",
       "      <td>0.001328</td>\n",
       "      <td>0.002656</td>\n",
       "      <td>0.001328</td>\n",
       "      <td>0.001328</td>\n",
       "      <td>0.000000</td>\n",
       "      <td>0.007968</td>\n",
       "    </tr>\n",
       "    <tr>\n",
       "      <th>1</th>\n",
       "      <td>1</td>\n",
       "      <td>1.592301e+09</td>\n",
       "      <td>0.036484</td>\n",
       "      <td>0.046767</td>\n",
       "      <td>0.011349</td>\n",
       "      <td>0.010467</td>\n",
       "      <td>0.020575</td>\n",
       "      <td>0.007325</td>\n",
       "      <td>0.907955</td>\n",
       "      <td>0.404406</td>\n",
       "      <td>...</td>\n",
       "      <td>0.001972</td>\n",
       "      <td>0.014793</td>\n",
       "      <td>0.033037</td>\n",
       "      <td>0.001479</td>\n",
       "      <td>0.001479</td>\n",
       "      <td>0.003452</td>\n",
       "      <td>0.001972</td>\n",
       "      <td>0.000493</td>\n",
       "      <td>0.000986</td>\n",
       "      <td>0.003945</td>\n",
       "    </tr>\n",
       "    <tr>\n",
       "      <th>2</th>\n",
       "      <td>2</td>\n",
       "      <td>2.041848e+09</td>\n",
       "      <td>0.033626</td>\n",
       "      <td>0.046083</td>\n",
       "      <td>0.014371</td>\n",
       "      <td>0.012568</td>\n",
       "      <td>0.022151</td>\n",
       "      <td>0.009665</td>\n",
       "      <td>0.859922</td>\n",
       "      <td>0.305744</td>\n",
       "      <td>...</td>\n",
       "      <td>0.002594</td>\n",
       "      <td>0.024643</td>\n",
       "      <td>0.020752</td>\n",
       "      <td>0.000000</td>\n",
       "      <td>0.000000</td>\n",
       "      <td>0.001297</td>\n",
       "      <td>0.000000</td>\n",
       "      <td>0.001297</td>\n",
       "      <td>0.001297</td>\n",
       "      <td>0.007782</td>\n",
       "    </tr>\n",
       "  </tbody>\n",
       "</table>\n",
       "<p>3 rows × 40 columns</p>\n",
       "</div>"
      ],
      "text/plain": [
       "   cluster            ID  MyProd1_Rx  MyProd2_Rx  CompProd1_Rx  CompProd2_Rx  \\\n",
       "0        0  1.393218e+09    0.024645    0.061359      0.009775      0.009240   \n",
       "1        1  1.592301e+09    0.036484    0.046767      0.011349      0.010467   \n",
       "2        2  2.041848e+09    0.033626    0.046083      0.014371      0.012568   \n",
       "\n",
       "   CompProd3_Rx  Cust_count  MSA_Population_Size       Age       ...         \\\n",
       "0      0.021754    0.006326             0.094732  0.386814       ...          \n",
       "1      0.020575    0.007325             0.907955  0.404406       ...          \n",
       "2      0.022151    0.009665             0.859922  0.305744       ...          \n",
       "\n",
       "   Primary_PE_40.0  Primary_PE_50.0  Primary_PE_63.0  Primary_PE_64.0  \\\n",
       "0         0.000000         0.009296         0.037185         0.006640   \n",
       "1         0.001972         0.014793         0.033037         0.001479   \n",
       "2         0.002594         0.024643         0.020752         0.000000   \n",
       "\n",
       "   Primary_PE_81.0  Primary_PE_82.0  Primary_PE_83.0  Primary_PE_84.0  \\\n",
       "0         0.001328         0.002656         0.001328         0.001328   \n",
       "1         0.001479         0.003452         0.001972         0.000493   \n",
       "2         0.000000         0.001297         0.000000         0.001297   \n",
       "\n",
       "   Primary_PE_85.0  Primary_PE_86.0  \n",
       "0         0.000000         0.007968  \n",
       "1         0.000986         0.003945  \n",
       "2         0.001297         0.007782  \n",
       "\n",
       "[3 rows x 40 columns]"
      ]
     },
     "execution_count": 1121,
     "metadata": {},
     "output_type": "execute_result"
    }
   ],
   "source": [
    "mod_dum.groupby('cluster',as_index=False).mean()"
   ]
  },
  {
   "cell_type": "code",
   "execution_count": 1122,
   "metadata": {
    "collapsed": true
   },
   "outputs": [],
   "source": [
    "#applying Clustering only on numerical variables"
   ]
  },
  {
   "cell_type": "code",
   "execution_count": 1123,
   "metadata": {
    "collapsed": true
   },
   "outputs": [],
   "source": [
    "fit2=km.fit(df2)"
   ]
  },
  {
   "cell_type": "code",
   "execution_count": 1124,
   "metadata": {},
   "outputs": [
    {
     "data": {
      "text/plain": [
       "260.63447867637228"
      ]
     },
     "execution_count": 1124,
     "metadata": {},
     "output_type": "execute_result"
    }
   ],
   "source": [
    "fit2.inertia_"
   ]
  },
  {
   "cell_type": "code",
   "execution_count": 1125,
   "metadata": {},
   "outputs": [
    {
     "data": {
      "text/plain": [
       "0.41502534390335027"
      ]
     },
     "execution_count": 1125,
     "metadata": {},
     "output_type": "execute_result"
    }
   ],
   "source": [
    "silhouette_score(df2,labels=fit2.labels_)#silhouette score has increased "
   ]
  },
  {
   "cell_type": "code",
   "execution_count": 1126,
   "metadata": {
    "collapsed": true
   },
   "outputs": [],
   "source": [
    "cluster2=fit2.labels_"
   ]
  },
  {
   "cell_type": "code",
   "execution_count": 1127,
   "metadata": {
    "collapsed": true
   },
   "outputs": [],
   "source": [
    "df2['cluster']=cluster2"
   ]
  },
  {
   "cell_type": "code",
   "execution_count": 1128,
   "metadata": {
    "collapsed": true
   },
   "outputs": [],
   "source": [
    "df2['ID']=mod_dum['ID']"
   ]
  },
  {
   "cell_type": "code",
   "execution_count": 1129,
   "metadata": {},
   "outputs": [
    {
     "data": {
      "text/html": [
       "<div>\n",
       "<style>\n",
       "    .dataframe thead tr:only-child th {\n",
       "        text-align: right;\n",
       "    }\n",
       "\n",
       "    .dataframe thead th {\n",
       "        text-align: left;\n",
       "    }\n",
       "\n",
       "    .dataframe tbody tr th {\n",
       "        vertical-align: top;\n",
       "    }\n",
       "</style>\n",
       "<table border=\"1\" class=\"dataframe\">\n",
       "  <thead>\n",
       "    <tr style=\"text-align: right;\">\n",
       "      <th></th>\n",
       "      <th>MyProd1_Rx</th>\n",
       "      <th>MyProd2_Rx</th>\n",
       "      <th>CompProd1_Rx</th>\n",
       "      <th>CompProd2_Rx</th>\n",
       "      <th>CompProd3_Rx</th>\n",
       "      <th>Cust_count</th>\n",
       "      <th>MSA_Population_Size</th>\n",
       "      <th>Age</th>\n",
       "      <th>YrsPractice</th>\n",
       "      <th>cluster</th>\n",
       "      <th>ID</th>\n",
       "    </tr>\n",
       "  </thead>\n",
       "  <tbody>\n",
       "    <tr>\n",
       "      <th>0</th>\n",
       "      <td>0.000000</td>\n",
       "      <td>0.114863</td>\n",
       "      <td>0.002019</td>\n",
       "      <td>0.002639</td>\n",
       "      <td>0.003160</td>\n",
       "      <td>0.000000</td>\n",
       "      <td>0.000000</td>\n",
       "      <td>1.000000</td>\n",
       "      <td>0.946429</td>\n",
       "      <td>1</td>\n",
       "      <td>10259059.0</td>\n",
       "    </tr>\n",
       "    <tr>\n",
       "      <th>1</th>\n",
       "      <td>0.000000</td>\n",
       "      <td>0.031244</td>\n",
       "      <td>0.005379</td>\n",
       "      <td>0.008717</td>\n",
       "      <td>0.030921</td>\n",
       "      <td>0.007286</td>\n",
       "      <td>0.666667</td>\n",
       "      <td>0.745763</td>\n",
       "      <td>0.785714</td>\n",
       "      <td>2</td>\n",
       "      <td>10268036.0</td>\n",
       "    </tr>\n",
       "    <tr>\n",
       "      <th>2</th>\n",
       "      <td>0.119718</td>\n",
       "      <td>0.253849</td>\n",
       "      <td>0.003993</td>\n",
       "      <td>0.001716</td>\n",
       "      <td>0.046058</td>\n",
       "      <td>0.000000</td>\n",
       "      <td>0.000000</td>\n",
       "      <td>0.644068</td>\n",
       "      <td>0.678571</td>\n",
       "      <td>1</td>\n",
       "      <td>10274128.0</td>\n",
       "    </tr>\n",
       "    <tr>\n",
       "      <th>3</th>\n",
       "      <td>0.000000</td>\n",
       "      <td>0.012498</td>\n",
       "      <td>0.003424</td>\n",
       "      <td>0.004598</td>\n",
       "      <td>0.010534</td>\n",
       "      <td>0.000000</td>\n",
       "      <td>0.666667</td>\n",
       "      <td>0.593220</td>\n",
       "      <td>0.660714</td>\n",
       "      <td>2</td>\n",
       "      <td>10275158.0</td>\n",
       "    </tr>\n",
       "    <tr>\n",
       "      <th>4</th>\n",
       "      <td>0.000000</td>\n",
       "      <td>0.046532</td>\n",
       "      <td>0.002569</td>\n",
       "      <td>0.003356</td>\n",
       "      <td>0.002999</td>\n",
       "      <td>0.001821</td>\n",
       "      <td>0.000000</td>\n",
       "      <td>0.576271</td>\n",
       "      <td>0.625000</td>\n",
       "      <td>1</td>\n",
       "      <td>10277050.0</td>\n",
       "    </tr>\n",
       "  </tbody>\n",
       "</table>\n",
       "</div>"
      ],
      "text/plain": [
       "   MyProd1_Rx  MyProd2_Rx  CompProd1_Rx  CompProd2_Rx  CompProd3_Rx  \\\n",
       "0    0.000000    0.114863      0.002019      0.002639      0.003160   \n",
       "1    0.000000    0.031244      0.005379      0.008717      0.030921   \n",
       "2    0.119718    0.253849      0.003993      0.001716      0.046058   \n",
       "3    0.000000    0.012498      0.003424      0.004598      0.010534   \n",
       "4    0.000000    0.046532      0.002569      0.003356      0.002999   \n",
       "\n",
       "   Cust_count  MSA_Population_Size       Age  YrsPractice  cluster          ID  \n",
       "0    0.000000             0.000000  1.000000     0.946429        1  10259059.0  \n",
       "1    0.007286             0.666667  0.745763     0.785714        2  10268036.0  \n",
       "2    0.000000             0.000000  0.644068     0.678571        1  10274128.0  \n",
       "3    0.000000             0.666667  0.593220     0.660714        2  10275158.0  \n",
       "4    0.001821             0.000000  0.576271     0.625000        1  10277050.0  "
      ]
     },
     "execution_count": 1129,
     "metadata": {},
     "output_type": "execute_result"
    }
   ],
   "source": [
    "df2.head()"
   ]
  },
  {
   "cell_type": "code",
   "execution_count": 1130,
   "metadata": {},
   "outputs": [
    {
     "data": {
      "text/plain": [
       "Index(['MyProd1_Rx', 'MyProd2_Rx', 'CompProd1_Rx', 'CompProd2_Rx',\n",
       "       'CompProd3_Rx', 'Cust_count', 'MSA_Population_Size', 'Age',\n",
       "       'YrsPractice', 'cluster', 'ID'],\n",
       "      dtype='object')"
      ]
     },
     "execution_count": 1130,
     "metadata": {},
     "output_type": "execute_result"
    }
   ],
   "source": [
    "df2.columns"
   ]
  },
  {
   "cell_type": "code",
   "execution_count": 1131,
   "metadata": {
    "collapsed": true
   },
   "outputs": [],
   "source": [
    "df2=df2[['ID','MyProd1_Rx', 'MyProd2_Rx', 'CompProd1_Rx', 'CompProd2_Rx',\n",
    "       'CompProd3_Rx', 'Cust_count', 'MSA_Population_Size', 'Age',\n",
    "       'YrsPractice', 'cluster']]"
   ]
  },
  {
   "cell_type": "code",
   "execution_count": 1132,
   "metadata": {},
   "outputs": [
    {
     "data": {
      "text/plain": [
       "(3552, 11)"
      ]
     },
     "execution_count": 1132,
     "metadata": {},
     "output_type": "execute_result"
    }
   ],
   "source": [
    "df2.shape"
   ]
  },
  {
   "cell_type": "code",
   "execution_count": 1133,
   "metadata": {
    "collapsed": true
   },
   "outputs": [],
   "source": [
    "df_num=df2[['MyProd1_Rx', 'MyProd2_Rx', 'CompProd1_Rx', 'CompProd2_Rx',\n",
    "       'CompProd3_Rx', 'Cust_count', 'MSA_Population_Size', 'Age',\n",
    "       'YrsPractice']]"
   ]
  },
  {
   "cell_type": "code",
   "execution_count": 1134,
   "metadata": {
    "collapsed": true
   },
   "outputs": [],
   "source": [
    "df_num=df_num.reset_index(drop=True)"
   ]
  },
  {
   "cell_type": "code",
   "execution_count": 1135,
   "metadata": {},
   "outputs": [
    {
     "data": {
      "text/html": [
       "<div>\n",
       "<style>\n",
       "    .dataframe thead tr:only-child th {\n",
       "        text-align: right;\n",
       "    }\n",
       "\n",
       "    .dataframe thead th {\n",
       "        text-align: left;\n",
       "    }\n",
       "\n",
       "    .dataframe tbody tr th {\n",
       "        vertical-align: top;\n",
       "    }\n",
       "</style>\n",
       "<table border=\"1\" class=\"dataframe\">\n",
       "  <thead>\n",
       "    <tr style=\"text-align: right;\">\n",
       "      <th></th>\n",
       "      <th>MyProd1_Rx</th>\n",
       "      <th>MyProd2_Rx</th>\n",
       "      <th>CompProd1_Rx</th>\n",
       "      <th>CompProd2_Rx</th>\n",
       "      <th>CompProd3_Rx</th>\n",
       "      <th>Cust_count</th>\n",
       "      <th>MSA_Population_Size</th>\n",
       "      <th>Age</th>\n",
       "      <th>YrsPractice</th>\n",
       "    </tr>\n",
       "  </thead>\n",
       "  <tbody>\n",
       "    <tr>\n",
       "      <th>0</th>\n",
       "      <td>0.000000</td>\n",
       "      <td>0.114863</td>\n",
       "      <td>0.002019</td>\n",
       "      <td>0.002639</td>\n",
       "      <td>0.003160</td>\n",
       "      <td>0.000000</td>\n",
       "      <td>0.000000</td>\n",
       "      <td>1.000000</td>\n",
       "      <td>0.946429</td>\n",
       "    </tr>\n",
       "    <tr>\n",
       "      <th>1</th>\n",
       "      <td>0.000000</td>\n",
       "      <td>0.031244</td>\n",
       "      <td>0.005379</td>\n",
       "      <td>0.008717</td>\n",
       "      <td>0.030921</td>\n",
       "      <td>0.007286</td>\n",
       "      <td>0.666667</td>\n",
       "      <td>0.745763</td>\n",
       "      <td>0.785714</td>\n",
       "    </tr>\n",
       "    <tr>\n",
       "      <th>2</th>\n",
       "      <td>0.119718</td>\n",
       "      <td>0.253849</td>\n",
       "      <td>0.003993</td>\n",
       "      <td>0.001716</td>\n",
       "      <td>0.046058</td>\n",
       "      <td>0.000000</td>\n",
       "      <td>0.000000</td>\n",
       "      <td>0.644068</td>\n",
       "      <td>0.678571</td>\n",
       "    </tr>\n",
       "    <tr>\n",
       "      <th>3</th>\n",
       "      <td>0.000000</td>\n",
       "      <td>0.012498</td>\n",
       "      <td>0.003424</td>\n",
       "      <td>0.004598</td>\n",
       "      <td>0.010534</td>\n",
       "      <td>0.000000</td>\n",
       "      <td>0.666667</td>\n",
       "      <td>0.593220</td>\n",
       "      <td>0.660714</td>\n",
       "    </tr>\n",
       "    <tr>\n",
       "      <th>4</th>\n",
       "      <td>0.000000</td>\n",
       "      <td>0.046532</td>\n",
       "      <td>0.002569</td>\n",
       "      <td>0.003356</td>\n",
       "      <td>0.002999</td>\n",
       "      <td>0.001821</td>\n",
       "      <td>0.000000</td>\n",
       "      <td>0.576271</td>\n",
       "      <td>0.625000</td>\n",
       "    </tr>\n",
       "  </tbody>\n",
       "</table>\n",
       "</div>"
      ],
      "text/plain": [
       "   MyProd1_Rx  MyProd2_Rx  CompProd1_Rx  CompProd2_Rx  CompProd3_Rx  \\\n",
       "0    0.000000    0.114863      0.002019      0.002639      0.003160   \n",
       "1    0.000000    0.031244      0.005379      0.008717      0.030921   \n",
       "2    0.119718    0.253849      0.003993      0.001716      0.046058   \n",
       "3    0.000000    0.012498      0.003424      0.004598      0.010534   \n",
       "4    0.000000    0.046532      0.002569      0.003356      0.002999   \n",
       "\n",
       "   Cust_count  MSA_Population_Size       Age  YrsPractice  \n",
       "0    0.000000             0.000000  1.000000     0.946429  \n",
       "1    0.007286             0.666667  0.745763     0.785714  \n",
       "2    0.000000             0.000000  0.644068     0.678571  \n",
       "3    0.000000             0.666667  0.593220     0.660714  \n",
       "4    0.001821             0.000000  0.576271     0.625000  "
      ]
     },
     "execution_count": 1135,
     "metadata": {},
     "output_type": "execute_result"
    }
   ],
   "source": [
    "df_num.head()"
   ]
  },
  {
   "cell_type": "code",
   "execution_count": 1136,
   "metadata": {
    "collapsed": true
   },
   "outputs": [],
   "source": [
    "df_num=min_max_scaler.inverse_transform(df_num)"
   ]
  },
  {
   "cell_type": "code",
   "execution_count": 1137,
   "metadata": {
    "collapsed": true
   },
   "outputs": [],
   "source": [
    "df_num=pd.DataFrame(df_num,columns=['MyProd1_Rx', 'MyProd2_Rx', 'CompProd1_Rx', 'CompProd2_Rx',\n",
    "       'CompProd3_Rx', 'Cust_count', 'MSA_Population_Size', 'Age',\n",
    "       'YrsPractice'])"
   ]
  },
  {
   "cell_type": "code",
   "execution_count": 1138,
   "metadata": {},
   "outputs": [
    {
     "data": {
      "text/html": [
       "<div>\n",
       "<style>\n",
       "    .dataframe thead tr:only-child th {\n",
       "        text-align: right;\n",
       "    }\n",
       "\n",
       "    .dataframe thead th {\n",
       "        text-align: left;\n",
       "    }\n",
       "\n",
       "    .dataframe tbody tr th {\n",
       "        vertical-align: top;\n",
       "    }\n",
       "</style>\n",
       "<table border=\"1\" class=\"dataframe\">\n",
       "  <thead>\n",
       "    <tr style=\"text-align: right;\">\n",
       "      <th></th>\n",
       "      <th>MyProd1_Rx</th>\n",
       "      <th>MyProd2_Rx</th>\n",
       "      <th>CompProd1_Rx</th>\n",
       "      <th>CompProd2_Rx</th>\n",
       "      <th>CompProd3_Rx</th>\n",
       "      <th>Cust_count</th>\n",
       "      <th>MSA_Population_Size</th>\n",
       "      <th>Age</th>\n",
       "      <th>YrsPractice</th>\n",
       "    </tr>\n",
       "  </thead>\n",
       "  <tbody>\n",
       "    <tr>\n",
       "      <th>0</th>\n",
       "      <td>0.00000</td>\n",
       "      <td>2827.92308</td>\n",
       "      <td>114531.0</td>\n",
       "      <td>179303.0</td>\n",
       "      <td>48554.0</td>\n",
       "      <td>1.0</td>\n",
       "      <td>1.0</td>\n",
       "      <td>89.0</td>\n",
       "      <td>57.0</td>\n",
       "    </tr>\n",
       "    <tr>\n",
       "      <th>1</th>\n",
       "      <td>0.00000</td>\n",
       "      <td>769.23077</td>\n",
       "      <td>305094.0</td>\n",
       "      <td>592283.0</td>\n",
       "      <td>475168.0</td>\n",
       "      <td>5.0</td>\n",
       "      <td>3.0</td>\n",
       "      <td>74.0</td>\n",
       "      <td>48.0</td>\n",
       "    </tr>\n",
       "    <tr>\n",
       "      <th>2</th>\n",
       "      <td>2768.15385</td>\n",
       "      <td>6249.76923</td>\n",
       "      <td>226475.0</td>\n",
       "      <td>116587.0</td>\n",
       "      <td>707787.0</td>\n",
       "      <td>1.0</td>\n",
       "      <td>1.0</td>\n",
       "      <td>68.0</td>\n",
       "      <td>42.0</td>\n",
       "    </tr>\n",
       "    <tr>\n",
       "      <th>3</th>\n",
       "      <td>0.00000</td>\n",
       "      <td>307.69231</td>\n",
       "      <td>194242.0</td>\n",
       "      <td>312433.0</td>\n",
       "      <td>161874.0</td>\n",
       "      <td>1.0</td>\n",
       "      <td>3.0</td>\n",
       "      <td>65.0</td>\n",
       "      <td>41.0</td>\n",
       "    </tr>\n",
       "    <tr>\n",
       "      <th>4</th>\n",
       "      <td>0.00000</td>\n",
       "      <td>1145.61538</td>\n",
       "      <td>145698.0</td>\n",
       "      <td>228027.0</td>\n",
       "      <td>46080.0</td>\n",
       "      <td>2.0</td>\n",
       "      <td>1.0</td>\n",
       "      <td>64.0</td>\n",
       "      <td>39.0</td>\n",
       "    </tr>\n",
       "  </tbody>\n",
       "</table>\n",
       "</div>"
      ],
      "text/plain": [
       "   MyProd1_Rx  MyProd2_Rx  CompProd1_Rx  CompProd2_Rx  CompProd3_Rx  \\\n",
       "0     0.00000  2827.92308      114531.0      179303.0       48554.0   \n",
       "1     0.00000   769.23077      305094.0      592283.0      475168.0   \n",
       "2  2768.15385  6249.76923      226475.0      116587.0      707787.0   \n",
       "3     0.00000   307.69231      194242.0      312433.0      161874.0   \n",
       "4     0.00000  1145.61538      145698.0      228027.0       46080.0   \n",
       "\n",
       "   Cust_count  MSA_Population_Size   Age  YrsPractice  \n",
       "0         1.0                  1.0  89.0         57.0  \n",
       "1         5.0                  3.0  74.0         48.0  \n",
       "2         1.0                  1.0  68.0         42.0  \n",
       "3         1.0                  3.0  65.0         41.0  \n",
       "4         2.0                  1.0  64.0         39.0  "
      ]
     },
     "execution_count": 1138,
     "metadata": {},
     "output_type": "execute_result"
    }
   ],
   "source": [
    "df_num.head()"
   ]
  },
  {
   "cell_type": "code",
   "execution_count": 1139,
   "metadata": {},
   "outputs": [
    {
     "data": {
      "text/html": [
       "<div>\n",
       "<style>\n",
       "    .dataframe thead tr:only-child th {\n",
       "        text-align: right;\n",
       "    }\n",
       "\n",
       "    .dataframe thead th {\n",
       "        text-align: left;\n",
       "    }\n",
       "\n",
       "    .dataframe tbody tr th {\n",
       "        vertical-align: top;\n",
       "    }\n",
       "</style>\n",
       "<table border=\"1\" class=\"dataframe\">\n",
       "  <thead>\n",
       "    <tr style=\"text-align: right;\">\n",
       "      <th></th>\n",
       "      <th>MyProd1_Rx</th>\n",
       "      <th>MyProd2_Rx</th>\n",
       "      <th>CompProd1_Rx</th>\n",
       "      <th>CompProd2_Rx</th>\n",
       "      <th>CompProd3_Rx</th>\n",
       "      <th>Cust_count</th>\n",
       "      <th>MSA_Population_Size</th>\n",
       "      <th>Age</th>\n",
       "      <th>YrsPractice</th>\n",
       "    </tr>\n",
       "  </thead>\n",
       "  <tbody>\n",
       "    <tr>\n",
       "      <th>0</th>\n",
       "      <td>0.00000</td>\n",
       "      <td>2827.92308</td>\n",
       "      <td>114531.0</td>\n",
       "      <td>179303.0</td>\n",
       "      <td>48554.0</td>\n",
       "      <td>1</td>\n",
       "      <td>1.0</td>\n",
       "      <td>89.0</td>\n",
       "      <td>57.0</td>\n",
       "    </tr>\n",
       "    <tr>\n",
       "      <th>1</th>\n",
       "      <td>0.00000</td>\n",
       "      <td>769.23077</td>\n",
       "      <td>305094.0</td>\n",
       "      <td>592283.0</td>\n",
       "      <td>475168.0</td>\n",
       "      <td>5</td>\n",
       "      <td>3.0</td>\n",
       "      <td>74.0</td>\n",
       "      <td>48.0</td>\n",
       "    </tr>\n",
       "    <tr>\n",
       "      <th>2</th>\n",
       "      <td>2768.15385</td>\n",
       "      <td>6249.76923</td>\n",
       "      <td>226475.0</td>\n",
       "      <td>116587.0</td>\n",
       "      <td>707787.0</td>\n",
       "      <td>1</td>\n",
       "      <td>1.0</td>\n",
       "      <td>68.0</td>\n",
       "      <td>42.0</td>\n",
       "    </tr>\n",
       "    <tr>\n",
       "      <th>3</th>\n",
       "      <td>0.00000</td>\n",
       "      <td>307.69231</td>\n",
       "      <td>194242.0</td>\n",
       "      <td>312433.0</td>\n",
       "      <td>161874.0</td>\n",
       "      <td>1</td>\n",
       "      <td>3.0</td>\n",
       "      <td>65.0</td>\n",
       "      <td>41.0</td>\n",
       "    </tr>\n",
       "    <tr>\n",
       "      <th>4</th>\n",
       "      <td>0.00000</td>\n",
       "      <td>1145.61538</td>\n",
       "      <td>145698.0</td>\n",
       "      <td>228027.0</td>\n",
       "      <td>46080.0</td>\n",
       "      <td>2</td>\n",
       "      <td>1.0</td>\n",
       "      <td>64.0</td>\n",
       "      <td>39.0</td>\n",
       "    </tr>\n",
       "  </tbody>\n",
       "</table>\n",
       "</div>"
      ],
      "text/plain": [
       "   MyProd1_Rx  MyProd2_Rx  CompProd1_Rx  CompProd2_Rx  CompProd3_Rx  \\\n",
       "0     0.00000  2827.92308      114531.0      179303.0       48554.0   \n",
       "1     0.00000   769.23077      305094.0      592283.0      475168.0   \n",
       "2  2768.15385  6249.76923      226475.0      116587.0      707787.0   \n",
       "3     0.00000   307.69231      194242.0      312433.0      161874.0   \n",
       "4     0.00000  1145.61538      145698.0      228027.0       46080.0   \n",
       "\n",
       "   Cust_count  MSA_Population_Size   Age  YrsPractice  \n",
       "0           1                  1.0  89.0         57.0  \n",
       "1           5                  3.0  74.0         48.0  \n",
       "2           1                  1.0  68.0         42.0  \n",
       "3           1                  3.0  65.0         41.0  \n",
       "4           2                  1.0  64.0         39.0  "
      ]
     },
     "execution_count": 1139,
     "metadata": {},
     "output_type": "execute_result"
    }
   ],
   "source": [
    "mod_num.head()"
   ]
  },
  {
   "cell_type": "code",
   "execution_count": 1140,
   "metadata": {
    "collapsed": true
   },
   "outputs": [],
   "source": [
    "col=['MyProd1_Rx', 'MyProd2_Rx', 'CompProd1_Rx', 'CompProd2_Rx',\n",
    "       'CompProd3_Rx', 'Cust_count', 'MSA_Population_Size', 'Age',\n",
    "       'YrsPractice']\n",
    "for i in col:\n",
    "    df2[i]=df_num[i]"
   ]
  },
  {
   "cell_type": "code",
   "execution_count": 1141,
   "metadata": {
    "collapsed": true
   },
   "outputs": [],
   "source": [
    "Cluster_char=df2.groupby('cluster',as_index=False).mean()"
   ]
  },
  {
   "cell_type": "code",
   "execution_count": 1142,
   "metadata": {},
   "outputs": [
    {
     "data": {
      "text/html": [
       "<div>\n",
       "<style>\n",
       "    .dataframe thead tr:only-child th {\n",
       "        text-align: right;\n",
       "    }\n",
       "\n",
       "    .dataframe thead th {\n",
       "        text-align: left;\n",
       "    }\n",
       "\n",
       "    .dataframe tbody tr th {\n",
       "        vertical-align: top;\n",
       "    }\n",
       "</style>\n",
       "<table border=\"1\" class=\"dataframe\">\n",
       "  <thead>\n",
       "    <tr style=\"text-align: right;\">\n",
       "      <th></th>\n",
       "      <th>cluster</th>\n",
       "      <th>ID</th>\n",
       "      <th>MyProd1_Rx</th>\n",
       "      <th>MyProd2_Rx</th>\n",
       "      <th>CompProd1_Rx</th>\n",
       "      <th>CompProd2_Rx</th>\n",
       "      <th>CompProd3_Rx</th>\n",
       "      <th>Cust_count</th>\n",
       "      <th>MSA_Population_Size</th>\n",
       "      <th>Age</th>\n",
       "      <th>YrsPractice</th>\n",
       "    </tr>\n",
       "  </thead>\n",
       "  <tbody>\n",
       "    <tr>\n",
       "      <th>0</th>\n",
       "      <td>0</td>\n",
       "      <td>1.558517e+09</td>\n",
       "      <td>939.710485</td>\n",
       "      <td>1129.074078</td>\n",
       "      <td>1.060254e+06</td>\n",
       "      <td>1.161859e+06</td>\n",
       "      <td>421122.032192</td>\n",
       "      <td>8.434247</td>\n",
       "      <td>3.733562</td>\n",
       "      <td>44.181507</td>\n",
       "      <td>16.502055</td>\n",
       "    </tr>\n",
       "    <tr>\n",
       "      <th>1</th>\n",
       "      <td>1</td>\n",
       "      <td>1.383765e+09</td>\n",
       "      <td>587.125780</td>\n",
       "      <td>1492.581365</td>\n",
       "      <td>5.463180e+05</td>\n",
       "      <td>6.164453e+05</td>\n",
       "      <td>329464.341523</td>\n",
       "      <td>4.385749</td>\n",
       "      <td>1.330467</td>\n",
       "      <td>52.433661</td>\n",
       "      <td>24.421376</td>\n",
       "    </tr>\n",
       "    <tr>\n",
       "      <th>2</th>\n",
       "      <td>2</td>\n",
       "      <td>1.917624e+09</td>\n",
       "      <td>695.989106</td>\n",
       "      <td>1161.101541</td>\n",
       "      <td>2.807024e+05</td>\n",
       "      <td>2.937554e+05</td>\n",
       "      <td>213107.314554</td>\n",
       "      <td>1.978873</td>\n",
       "      <td>3.712833</td>\n",
       "      <td>61.701878</td>\n",
       "      <td>34.395149</td>\n",
       "    </tr>\n",
       "  </tbody>\n",
       "</table>\n",
       "</div>"
      ],
      "text/plain": [
       "   cluster            ID  MyProd1_Rx   MyProd2_Rx  CompProd1_Rx  CompProd2_Rx  \\\n",
       "0        0  1.558517e+09  939.710485  1129.074078  1.060254e+06  1.161859e+06   \n",
       "1        1  1.383765e+09  587.125780  1492.581365  5.463180e+05  6.164453e+05   \n",
       "2        2  1.917624e+09  695.989106  1161.101541  2.807024e+05  2.937554e+05   \n",
       "\n",
       "    CompProd3_Rx  Cust_count  MSA_Population_Size        Age  YrsPractice  \n",
       "0  421122.032192    8.434247             3.733562  44.181507    16.502055  \n",
       "1  329464.341523    4.385749             1.330467  52.433661    24.421376  \n",
       "2  213107.314554    1.978873             3.712833  61.701878    34.395149  "
      ]
     },
     "execution_count": 1142,
     "metadata": {},
     "output_type": "execute_result"
    }
   ],
   "source": [
    "Cluster_char"
   ]
  },
  {
   "cell_type": "code",
   "execution_count": 1143,
   "metadata": {
    "collapsed": true
   },
   "outputs": [],
   "source": [
    "Cluster_char['sum']=Cluster_char['MyProd1_Rx']+Cluster_char['MyProd2_Rx']"
   ]
  },
  {
   "cell_type": "code",
   "execution_count": 1144,
   "metadata": {},
   "outputs": [
    {
     "data": {
      "text/html": [
       "<div>\n",
       "<style>\n",
       "    .dataframe thead tr:only-child th {\n",
       "        text-align: right;\n",
       "    }\n",
       "\n",
       "    .dataframe thead th {\n",
       "        text-align: left;\n",
       "    }\n",
       "\n",
       "    .dataframe tbody tr th {\n",
       "        vertical-align: top;\n",
       "    }\n",
       "</style>\n",
       "<table border=\"1\" class=\"dataframe\">\n",
       "  <thead>\n",
       "    <tr style=\"text-align: right;\">\n",
       "      <th></th>\n",
       "      <th>cluster</th>\n",
       "      <th>ID</th>\n",
       "      <th>MyProd1_Rx</th>\n",
       "      <th>MyProd2_Rx</th>\n",
       "      <th>CompProd1_Rx</th>\n",
       "      <th>CompProd2_Rx</th>\n",
       "      <th>CompProd3_Rx</th>\n",
       "      <th>Cust_count</th>\n",
       "      <th>MSA_Population_Size</th>\n",
       "      <th>Age</th>\n",
       "      <th>YrsPractice</th>\n",
       "      <th>sum</th>\n",
       "    </tr>\n",
       "  </thead>\n",
       "  <tbody>\n",
       "    <tr>\n",
       "      <th>0</th>\n",
       "      <td>0</td>\n",
       "      <td>1.558517e+09</td>\n",
       "      <td>939.710485</td>\n",
       "      <td>1129.074078</td>\n",
       "      <td>1.060254e+06</td>\n",
       "      <td>1.161859e+06</td>\n",
       "      <td>421122.032192</td>\n",
       "      <td>8.434247</td>\n",
       "      <td>3.733562</td>\n",
       "      <td>44.181507</td>\n",
       "      <td>16.502055</td>\n",
       "      <td>2068.784563</td>\n",
       "    </tr>\n",
       "    <tr>\n",
       "      <th>1</th>\n",
       "      <td>1</td>\n",
       "      <td>1.383765e+09</td>\n",
       "      <td>587.125780</td>\n",
       "      <td>1492.581365</td>\n",
       "      <td>5.463180e+05</td>\n",
       "      <td>6.164453e+05</td>\n",
       "      <td>329464.341523</td>\n",
       "      <td>4.385749</td>\n",
       "      <td>1.330467</td>\n",
       "      <td>52.433661</td>\n",
       "      <td>24.421376</td>\n",
       "      <td>2079.707144</td>\n",
       "    </tr>\n",
       "    <tr>\n",
       "      <th>2</th>\n",
       "      <td>2</td>\n",
       "      <td>1.917624e+09</td>\n",
       "      <td>695.989106</td>\n",
       "      <td>1161.101541</td>\n",
       "      <td>2.807024e+05</td>\n",
       "      <td>2.937554e+05</td>\n",
       "      <td>213107.314554</td>\n",
       "      <td>1.978873</td>\n",
       "      <td>3.712833</td>\n",
       "      <td>61.701878</td>\n",
       "      <td>34.395149</td>\n",
       "      <td>1857.090646</td>\n",
       "    </tr>\n",
       "  </tbody>\n",
       "</table>\n",
       "</div>"
      ],
      "text/plain": [
       "   cluster            ID  MyProd1_Rx   MyProd2_Rx  CompProd1_Rx  CompProd2_Rx  \\\n",
       "0        0  1.558517e+09  939.710485  1129.074078  1.060254e+06  1.161859e+06   \n",
       "1        1  1.383765e+09  587.125780  1492.581365  5.463180e+05  6.164453e+05   \n",
       "2        2  1.917624e+09  695.989106  1161.101541  2.807024e+05  2.937554e+05   \n",
       "\n",
       "    CompProd3_Rx  Cust_count  MSA_Population_Size        Age  YrsPractice  \\\n",
       "0  421122.032192    8.434247             3.733562  44.181507    16.502055   \n",
       "1  329464.341523    4.385749             1.330467  52.433661    24.421376   \n",
       "2  213107.314554    1.978873             3.712833  61.701878    34.395149   \n",
       "\n",
       "           sum  \n",
       "0  2068.784563  \n",
       "1  2079.707144  \n",
       "2  1857.090646  "
      ]
     },
     "execution_count": 1144,
     "metadata": {},
     "output_type": "execute_result"
    }
   ],
   "source": [
    "Cluster_char"
   ]
  },
  {
   "cell_type": "code",
   "execution_count": 1145,
   "metadata": {},
   "outputs": [
    {
     "data": {
      "text/plain": [
       "0    1460\n",
       "2    1278\n",
       "1     814\n",
       "Name: cluster, dtype: int64"
      ]
     },
     "execution_count": 1145,
     "metadata": {},
     "output_type": "execute_result"
    }
   ],
   "source": [
    "df2['cluster'].value_counts()"
   ]
  },
  {
   "cell_type": "code",
   "execution_count": 1146,
   "metadata": {
    "collapsed": true
   },
   "outputs": [],
   "source": [
    "#now lets try to aggregate or remove some of correlated variables\n",
    "#Removing age and averaging competetive products sale"
   ]
  },
  {
   "cell_type": "code",
   "execution_count": 1147,
   "metadata": {
    "collapsed": true
   },
   "outputs": [],
   "source": [
    "mod_uncor=mod_num.drop('Age',axis=1)"
   ]
  },
  {
   "cell_type": "code",
   "execution_count": 1148,
   "metadata": {
    "collapsed": true
   },
   "outputs": [],
   "source": [
    "mod_uncor['Avg_comp']=(mod_uncor['CompProd1_Rx']+mod_uncor['CompProd2_Rx']+mod_uncor['CompProd3_Rx'])/3"
   ]
  },
  {
   "cell_type": "code",
   "execution_count": 1149,
   "metadata": {},
   "outputs": [],
   "source": [
    "mod_uncor.drop(['CompProd1_Rx','CompProd2_Rx','CompProd3_Rx'],axis=1,inplace=True)"
   ]
  },
  {
   "cell_type": "code",
   "execution_count": 1150,
   "metadata": {},
   "outputs": [
    {
     "data": {
      "text/html": [
       "<div>\n",
       "<style>\n",
       "    .dataframe thead tr:only-child th {\n",
       "        text-align: right;\n",
       "    }\n",
       "\n",
       "    .dataframe thead th {\n",
       "        text-align: left;\n",
       "    }\n",
       "\n",
       "    .dataframe tbody tr th {\n",
       "        vertical-align: top;\n",
       "    }\n",
       "</style>\n",
       "<table border=\"1\" class=\"dataframe\">\n",
       "  <thead>\n",
       "    <tr style=\"text-align: right;\">\n",
       "      <th></th>\n",
       "      <th>MyProd1_Rx</th>\n",
       "      <th>MyProd2_Rx</th>\n",
       "      <th>Cust_count</th>\n",
       "      <th>MSA_Population_Size</th>\n",
       "      <th>YrsPractice</th>\n",
       "      <th>Avg_comp</th>\n",
       "    </tr>\n",
       "  </thead>\n",
       "  <tbody>\n",
       "    <tr>\n",
       "      <th>0</th>\n",
       "      <td>0.00000</td>\n",
       "      <td>2827.92308</td>\n",
       "      <td>1</td>\n",
       "      <td>1.0</td>\n",
       "      <td>57.0</td>\n",
       "      <td>114129.333333</td>\n",
       "    </tr>\n",
       "    <tr>\n",
       "      <th>1</th>\n",
       "      <td>0.00000</td>\n",
       "      <td>769.23077</td>\n",
       "      <td>5</td>\n",
       "      <td>3.0</td>\n",
       "      <td>48.0</td>\n",
       "      <td>457515.000000</td>\n",
       "    </tr>\n",
       "    <tr>\n",
       "      <th>2</th>\n",
       "      <td>2768.15385</td>\n",
       "      <td>6249.76923</td>\n",
       "      <td>1</td>\n",
       "      <td>1.0</td>\n",
       "      <td>42.0</td>\n",
       "      <td>350283.000000</td>\n",
       "    </tr>\n",
       "    <tr>\n",
       "      <th>3</th>\n",
       "      <td>0.00000</td>\n",
       "      <td>307.69231</td>\n",
       "      <td>1</td>\n",
       "      <td>3.0</td>\n",
       "      <td>41.0</td>\n",
       "      <td>222849.666667</td>\n",
       "    </tr>\n",
       "    <tr>\n",
       "      <th>4</th>\n",
       "      <td>0.00000</td>\n",
       "      <td>1145.61538</td>\n",
       "      <td>2</td>\n",
       "      <td>1.0</td>\n",
       "      <td>39.0</td>\n",
       "      <td>139935.000000</td>\n",
       "    </tr>\n",
       "  </tbody>\n",
       "</table>\n",
       "</div>"
      ],
      "text/plain": [
       "   MyProd1_Rx  MyProd2_Rx  Cust_count  MSA_Population_Size  YrsPractice  \\\n",
       "0     0.00000  2827.92308           1                  1.0         57.0   \n",
       "1     0.00000   769.23077           5                  3.0         48.0   \n",
       "2  2768.15385  6249.76923           1                  1.0         42.0   \n",
       "3     0.00000   307.69231           1                  3.0         41.0   \n",
       "4     0.00000  1145.61538           2                  1.0         39.0   \n",
       "\n",
       "        Avg_comp  \n",
       "0  114129.333333  \n",
       "1  457515.000000  \n",
       "2  350283.000000  \n",
       "3  222849.666667  \n",
       "4  139935.000000  "
      ]
     },
     "execution_count": 1150,
     "metadata": {},
     "output_type": "execute_result"
    }
   ],
   "source": [
    "mod_uncor.head()"
   ]
  },
  {
   "cell_type": "code",
   "execution_count": 1151,
   "metadata": {
    "collapsed": true
   },
   "outputs": [],
   "source": [
    "\n",
    " #returns a numpy array\n",
    "min_max_scaler2 = preprocessing.MinMaxScaler()\n",
    "y_scaled = min_max_scaler.fit_transform(mod_uncor)\n",
    "df3 = pd.DataFrame(y_scaled,columns=[ 'MyProd1_Rx', 'MyProd2_Rx','Cust_count','MSA_Population_Size','YrsPractice','Avg_comp'])"
   ]
  },
  {
   "cell_type": "code",
   "execution_count": 1152,
   "metadata": {
    "collapsed": true
   },
   "outputs": [],
   "source": [
    "fit3=km.fit(df3)"
   ]
  },
  {
   "cell_type": "code",
   "execution_count": 1153,
   "metadata": {},
   "outputs": [
    {
     "data": {
      "text/plain": [
       "189.68832758080299"
      ]
     },
     "execution_count": 1153,
     "metadata": {},
     "output_type": "execute_result"
    }
   ],
   "source": [
    "fit3.inertia_#sum of square within has falled down"
   ]
  },
  {
   "cell_type": "code",
   "execution_count": 1154,
   "metadata": {},
   "outputs": [
    {
     "data": {
      "text/plain": [
       "0.40021931194975968"
      ]
     },
     "execution_count": 1154,
     "metadata": {},
     "output_type": "execute_result"
    }
   ],
   "source": [
    "silhouette_score(df3,labels=fit3.labels_)#silhouette score is about same"
   ]
  },
  {
   "cell_type": "code",
   "execution_count": 1155,
   "metadata": {
    "collapsed": true
   },
   "outputs": [],
   "source": [
    "cluster3=fit3.labels_"
   ]
  },
  {
   "cell_type": "code",
   "execution_count": 1156,
   "metadata": {
    "collapsed": true
   },
   "outputs": [],
   "source": [
    "df3=min_max_scaler.inverse_transform(df3)"
   ]
  },
  {
   "cell_type": "code",
   "execution_count": 1157,
   "metadata": {
    "collapsed": true
   },
   "outputs": [],
   "source": [
    "df3=pd.DataFrame(df3,columns=[ 'MyProd1_Rx', 'MyProd2_Rx','Cust_count','MSA_Population_Size','YrsPractice','Avg_comp'])"
   ]
  },
  {
   "cell_type": "code",
   "execution_count": 1158,
   "metadata": {
    "collapsed": true
   },
   "outputs": [],
   "source": [
    "df3['cluster']=cluster3"
   ]
  },
  {
   "cell_type": "code",
   "execution_count": 1159,
   "metadata": {
    "collapsed": true
   },
   "outputs": [],
   "source": [
    "df3['ID']=mod_dum['ID']"
   ]
  },
  {
   "cell_type": "code",
   "execution_count": 1160,
   "metadata": {},
   "outputs": [
    {
     "data": {
      "text/html": [
       "<div>\n",
       "<style>\n",
       "    .dataframe thead tr:only-child th {\n",
       "        text-align: right;\n",
       "    }\n",
       "\n",
       "    .dataframe thead th {\n",
       "        text-align: left;\n",
       "    }\n",
       "\n",
       "    .dataframe tbody tr th {\n",
       "        vertical-align: top;\n",
       "    }\n",
       "</style>\n",
       "<table border=\"1\" class=\"dataframe\">\n",
       "  <thead>\n",
       "    <tr style=\"text-align: right;\">\n",
       "      <th></th>\n",
       "      <th>MyProd1_Rx</th>\n",
       "      <th>MyProd2_Rx</th>\n",
       "      <th>Cust_count</th>\n",
       "      <th>MSA_Population_Size</th>\n",
       "      <th>YrsPractice</th>\n",
       "      <th>Avg_comp</th>\n",
       "      <th>cluster</th>\n",
       "      <th>ID</th>\n",
       "    </tr>\n",
       "  </thead>\n",
       "  <tbody>\n",
       "    <tr>\n",
       "      <th>0</th>\n",
       "      <td>0.00000</td>\n",
       "      <td>2827.92308</td>\n",
       "      <td>1.0</td>\n",
       "      <td>1.0</td>\n",
       "      <td>57.0</td>\n",
       "      <td>114129.333333</td>\n",
       "      <td>1</td>\n",
       "      <td>10259059.0</td>\n",
       "    </tr>\n",
       "    <tr>\n",
       "      <th>1</th>\n",
       "      <td>0.00000</td>\n",
       "      <td>769.23077</td>\n",
       "      <td>5.0</td>\n",
       "      <td>3.0</td>\n",
       "      <td>48.0</td>\n",
       "      <td>457515.000000</td>\n",
       "      <td>0</td>\n",
       "      <td>10268036.0</td>\n",
       "    </tr>\n",
       "    <tr>\n",
       "      <th>2</th>\n",
       "      <td>2768.15385</td>\n",
       "      <td>6249.76923</td>\n",
       "      <td>1.0</td>\n",
       "      <td>1.0</td>\n",
       "      <td>42.0</td>\n",
       "      <td>350283.000000</td>\n",
       "      <td>1</td>\n",
       "      <td>10274128.0</td>\n",
       "    </tr>\n",
       "    <tr>\n",
       "      <th>3</th>\n",
       "      <td>0.00000</td>\n",
       "      <td>307.69231</td>\n",
       "      <td>1.0</td>\n",
       "      <td>3.0</td>\n",
       "      <td>41.0</td>\n",
       "      <td>222849.666667</td>\n",
       "      <td>0</td>\n",
       "      <td>10275158.0</td>\n",
       "    </tr>\n",
       "    <tr>\n",
       "      <th>4</th>\n",
       "      <td>0.00000</td>\n",
       "      <td>1145.61538</td>\n",
       "      <td>2.0</td>\n",
       "      <td>1.0</td>\n",
       "      <td>39.0</td>\n",
       "      <td>139935.000000</td>\n",
       "      <td>1</td>\n",
       "      <td>10277050.0</td>\n",
       "    </tr>\n",
       "  </tbody>\n",
       "</table>\n",
       "</div>"
      ],
      "text/plain": [
       "   MyProd1_Rx  MyProd2_Rx  Cust_count  MSA_Population_Size  YrsPractice  \\\n",
       "0     0.00000  2827.92308         1.0                  1.0         57.0   \n",
       "1     0.00000   769.23077         5.0                  3.0         48.0   \n",
       "2  2768.15385  6249.76923         1.0                  1.0         42.0   \n",
       "3     0.00000   307.69231         1.0                  3.0         41.0   \n",
       "4     0.00000  1145.61538         2.0                  1.0         39.0   \n",
       "\n",
       "        Avg_comp  cluster          ID  \n",
       "0  114129.333333        1  10259059.0  \n",
       "1  457515.000000        0  10268036.0  \n",
       "2  350283.000000        1  10274128.0  \n",
       "3  222849.666667        0  10275158.0  \n",
       "4  139935.000000        1  10277050.0  "
      ]
     },
     "execution_count": 1160,
     "metadata": {},
     "output_type": "execute_result"
    }
   ],
   "source": [
    "df3.head()"
   ]
  },
  {
   "cell_type": "code",
   "execution_count": 1161,
   "metadata": {
    "collapsed": true
   },
   "outputs": [],
   "source": [
    "Cluster_char2=df3.groupby('cluster',as_index=False).mean()"
   ]
  },
  {
   "cell_type": "code",
   "execution_count": 1162,
   "metadata": {
    "collapsed": true
   },
   "outputs": [],
   "source": [
    "Cluster_char2['sum']=Cluster_char['MyProd1_Rx']+Cluster_char['MyProd2_Rx']"
   ]
  },
  {
   "cell_type": "code",
   "execution_count": 1163,
   "metadata": {},
   "outputs": [
    {
     "data": {
      "text/html": [
       "<div>\n",
       "<style>\n",
       "    .dataframe thead tr:only-child th {\n",
       "        text-align: right;\n",
       "    }\n",
       "\n",
       "    .dataframe thead th {\n",
       "        text-align: left;\n",
       "    }\n",
       "\n",
       "    .dataframe tbody tr th {\n",
       "        vertical-align: top;\n",
       "    }\n",
       "</style>\n",
       "<table border=\"1\" class=\"dataframe\">\n",
       "  <thead>\n",
       "    <tr style=\"text-align: right;\">\n",
       "      <th></th>\n",
       "      <th>cluster</th>\n",
       "      <th>MyProd1_Rx</th>\n",
       "      <th>MyProd2_Rx</th>\n",
       "      <th>Cust_count</th>\n",
       "      <th>MSA_Population_Size</th>\n",
       "      <th>YrsPractice</th>\n",
       "      <th>Avg_comp</th>\n",
       "      <th>ID</th>\n",
       "      <th>sum</th>\n",
       "    </tr>\n",
       "  </thead>\n",
       "  <tbody>\n",
       "    <tr>\n",
       "      <th>0</th>\n",
       "      <td>0</td>\n",
       "      <td>707.187087</td>\n",
       "      <td>1157.200408</td>\n",
       "      <td>2.104524</td>\n",
       "      <td>3.726989</td>\n",
       "      <td>34.451638</td>\n",
       "      <td>276521.317213</td>\n",
       "      <td>2.057728e+09</td>\n",
       "      <td>2068.784563</td>\n",
       "    </tr>\n",
       "    <tr>\n",
       "      <th>1</th>\n",
       "      <td>1</td>\n",
       "      <td>587.381595</td>\n",
       "      <td>1490.749977</td>\n",
       "      <td>4.382822</td>\n",
       "      <td>1.331288</td>\n",
       "      <td>24.461350</td>\n",
       "      <td>496981.025358</td>\n",
       "      <td>1.382278e+09</td>\n",
       "      <td>2079.707144</td>\n",
       "    </tr>\n",
       "    <tr>\n",
       "      <th>2</th>\n",
       "      <td>2</td>\n",
       "      <td>930.613006</td>\n",
       "      <td>1133.199313</td>\n",
       "      <td>8.345704</td>\n",
       "      <td>3.722337</td>\n",
       "      <td>16.375258</td>\n",
       "      <td>870947.417411</td>\n",
       "      <td>1.435037e+09</td>\n",
       "      <td>1857.090646</td>\n",
       "    </tr>\n",
       "  </tbody>\n",
       "</table>\n",
       "</div>"
      ],
      "text/plain": [
       "   cluster  MyProd1_Rx   MyProd2_Rx  Cust_count  MSA_Population_Size  \\\n",
       "0        0  707.187087  1157.200408    2.104524             3.726989   \n",
       "1        1  587.381595  1490.749977    4.382822             1.331288   \n",
       "2        2  930.613006  1133.199313    8.345704             3.722337   \n",
       "\n",
       "   YrsPractice       Avg_comp            ID          sum  \n",
       "0    34.451638  276521.317213  2.057728e+09  2068.784563  \n",
       "1    24.461350  496981.025358  1.382278e+09  2079.707144  \n",
       "2    16.375258  870947.417411  1.435037e+09  1857.090646  "
      ]
     },
     "execution_count": 1163,
     "metadata": {},
     "output_type": "execute_result"
    }
   ],
   "source": [
    "Cluster_char2"
   ]
  },
  {
   "cell_type": "code",
   "execution_count": 1168,
   "metadata": {
    "collapsed": true
   },
   "outputs": [],
   "source": [
    "Superhighvalue=df3[df3['cluster']==1]"
   ]
  },
  {
   "cell_type": "code",
   "execution_count": 1169,
   "metadata": {
    "collapsed": true
   },
   "outputs": [],
   "source": [
    "highvalue=df3[df3['cluster']==0]"
   ]
  },
  {
   "cell_type": "code",
   "execution_count": 1170,
   "metadata": {
    "collapsed": true
   },
   "outputs": [],
   "source": [
    "mediumvalue=df3[df3['cluster']==2]"
   ]
  },
  {
   "cell_type": "code",
   "execution_count": 1164,
   "metadata": {},
   "outputs": [
    {
     "data": {
      "text/plain": [
       "2    1455\n",
       "0    1282\n",
       "1     815\n",
       "Name: cluster, dtype: int64"
      ]
     },
     "execution_count": 1164,
     "metadata": {},
     "output_type": "execute_result"
    }
   ],
   "source": [
    "df3['cluster'].value_counts()"
   ]
  },
  {
   "cell_type": "markdown",
   "metadata": {},
   "source": [
    "# Explanation"
   ]
  },
  {
   "cell_type": "markdown",
   "metadata": {},
   "source": [
    "*as we are limited on budget Doctors of low value have already been removed. Now we are dividing the remaining\n",
    "doctors  into 3 clusters(Super high, high and medium vale) we can see that average revenue of our 2 products combined from 2nd cluster is highest,count of those doctors is very less, also sales made by them for competitive products is high which can be converted into our product sales if we market our products to them, so our Super high value Doctors will be from 2nd cluster. Average years of practice of our super high value Doctors is 24 years and on average has 4 customers .Our high value Doctors will be from 1st cluster as  average revenue of our 2 products combined is also high in 1st cluster. Average years of practice of our  high value Doctors is 34 years and on average has 2 customers. If still budget is left we will target cluster 3 which is medium value Doctors as they are generating very high sales of competitive products chances of their prescribing our product is very less.\n",
    "\n",
    "*Alternative approach- if we we want to increase sales of our product1 then our first target should be 3rd cluster as highest sale of our product1 is made by doctors in 3rd cluster."
   ]
  }
 ],
 "metadata": {
  "kernelspec": {
   "display_name": "Python 3",
   "language": "python",
   "name": "python3"
  },
  "language_info": {
   "codemirror_mode": {
    "name": "ipython",
    "version": 3
   },
   "file_extension": ".py",
   "mimetype": "text/x-python",
   "name": "python",
   "nbconvert_exporter": "python",
   "pygments_lexer": "ipython3",
   "version": "3.6.3"
  }
 },
 "nbformat": 4,
 "nbformat_minor": 2
}
